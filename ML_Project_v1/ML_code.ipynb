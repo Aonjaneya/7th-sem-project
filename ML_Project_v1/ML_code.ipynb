{
 "cells": [
  {
   "cell_type": "markdown",
   "id": "0c3845a5",
   "metadata": {},
   "source": [
    "# Diabetes Predicition Model"
   ]
  },
  {
   "cell_type": "markdown",
   "id": "d6d314b9",
   "metadata": {},
   "source": [
    "#### Data collection and pre-processing:"
   ]
  },
  {
   "cell_type": "code",
   "execution_count": 1,
   "id": "b0b87ee8",
   "metadata": {
    "scrolled": true,
    "tags": []
   },
   "outputs": [],
   "source": [
    "import numpy as np\n",
    "import pandas as pd\n",
    "import matplotlib.pyplot as plt"
   ]
  },
  {
   "cell_type": "code",
   "execution_count": 2,
   "id": "5dad98d2",
   "metadata": {
    "scrolled": true,
    "tags": []
   },
   "outputs": [
    {
     "name": "stdout",
     "output_type": "stream",
     "text": [
      "<class 'pandas.core.frame.DataFrame'>\n",
      "RangeIndex: 768 entries, 0 to 767\n",
      "Data columns (total 9 columns):\n",
      " #   Column                    Non-Null Count  Dtype  \n",
      "---  ------                    --------------  -----  \n",
      " 0   Pregnancies               768 non-null    int64  \n",
      " 1   Glucose                   768 non-null    int64  \n",
      " 2   BloodPressure             768 non-null    int64  \n",
      " 3   SkinThickness             768 non-null    int64  \n",
      " 4   Insulin                   768 non-null    int64  \n",
      " 5   BMI                       768 non-null    float64\n",
      " 6   DiabetesPedigreeFunction  768 non-null    float64\n",
      " 7   Age                       768 non-null    int64  \n",
      " 8   Outcome                   768 non-null    int64  \n",
      "dtypes: float64(2), int64(7)\n",
      "memory usage: 54.1 KB\n"
     ]
    }
   ],
   "source": [
    "df = pd.read_csv(\"diabetes.csv\")\n",
    "df.info()"
   ]
  },
  {
   "cell_type": "code",
   "execution_count": 3,
   "id": "11260e0b",
   "metadata": {
    "scrolled": true,
    "tags": []
   },
   "outputs": [
    {
     "data": {
      "text/html": [
       "<div>\n",
       "<style scoped>\n",
       "    .dataframe tbody tr th:only-of-type {\n",
       "        vertical-align: middle;\n",
       "    }\n",
       "\n",
       "    .dataframe tbody tr th {\n",
       "        vertical-align: top;\n",
       "    }\n",
       "\n",
       "    .dataframe thead th {\n",
       "        text-align: right;\n",
       "    }\n",
       "</style>\n",
       "<table border=\"1\" class=\"dataframe\">\n",
       "  <thead>\n",
       "    <tr style=\"text-align: right;\">\n",
       "      <th></th>\n",
       "      <th>Pregnancies</th>\n",
       "      <th>Glucose</th>\n",
       "      <th>BloodPressure</th>\n",
       "      <th>SkinThickness</th>\n",
       "      <th>Insulin</th>\n",
       "      <th>BMI</th>\n",
       "      <th>DiabetesPedigreeFunction</th>\n",
       "      <th>Age</th>\n",
       "      <th>Outcome</th>\n",
       "    </tr>\n",
       "  </thead>\n",
       "  <tbody>\n",
       "    <tr>\n",
       "      <th>0</th>\n",
       "      <td>6</td>\n",
       "      <td>148</td>\n",
       "      <td>72</td>\n",
       "      <td>35</td>\n",
       "      <td>300</td>\n",
       "      <td>33.6</td>\n",
       "      <td>0.627</td>\n",
       "      <td>50</td>\n",
       "      <td>1</td>\n",
       "    </tr>\n",
       "    <tr>\n",
       "      <th>1</th>\n",
       "      <td>1</td>\n",
       "      <td>85</td>\n",
       "      <td>66</td>\n",
       "      <td>29</td>\n",
       "      <td>190</td>\n",
       "      <td>26.6</td>\n",
       "      <td>0.351</td>\n",
       "      <td>31</td>\n",
       "      <td>0</td>\n",
       "    </tr>\n",
       "    <tr>\n",
       "      <th>2</th>\n",
       "      <td>5</td>\n",
       "      <td>183</td>\n",
       "      <td>64</td>\n",
       "      <td>30</td>\n",
       "      <td>350</td>\n",
       "      <td>23.3</td>\n",
       "      <td>0.672</td>\n",
       "      <td>32</td>\n",
       "      <td>1</td>\n",
       "    </tr>\n",
       "    <tr>\n",
       "      <th>3</th>\n",
       "      <td>1</td>\n",
       "      <td>89</td>\n",
       "      <td>66</td>\n",
       "      <td>23</td>\n",
       "      <td>94</td>\n",
       "      <td>28.1</td>\n",
       "      <td>0.167</td>\n",
       "      <td>21</td>\n",
       "      <td>0</td>\n",
       "    </tr>\n",
       "    <tr>\n",
       "      <th>4</th>\n",
       "      <td>0</td>\n",
       "      <td>137</td>\n",
       "      <td>40</td>\n",
       "      <td>35</td>\n",
       "      <td>168</td>\n",
       "      <td>43.1</td>\n",
       "      <td>2.288</td>\n",
       "      <td>33</td>\n",
       "      <td>1</td>\n",
       "    </tr>\n",
       "  </tbody>\n",
       "</table>\n",
       "</div>"
      ],
      "text/plain": [
       "   Pregnancies  Glucose  BloodPressure  SkinThickness  Insulin   BMI  \\\n",
       "0            6      148             72             35      300  33.6   \n",
       "1            1       85             66             29      190  26.6   \n",
       "2            5      183             64             30      350  23.3   \n",
       "3            1       89             66             23       94  28.1   \n",
       "4            0      137             40             35      168  43.1   \n",
       "\n",
       "   DiabetesPedigreeFunction  Age  Outcome  \n",
       "0                     0.627   50        1  \n",
       "1                     0.351   31        0  \n",
       "2                     0.672   32        1  \n",
       "3                     0.167   21        0  \n",
       "4                     2.288   33        1  "
      ]
     },
     "execution_count": 3,
     "metadata": {},
     "output_type": "execute_result"
    }
   ],
   "source": [
    "df.head()"
   ]
  },
  {
   "cell_type": "code",
   "execution_count": 4,
   "id": "9ec7784f",
   "metadata": {
    "scrolled": true
   },
   "outputs": [
    {
     "name": "stdout",
     "output_type": "stream",
     "text": [
      "Index(['Pregnancies', 'Glucose', 'BloodPressure', 'SkinThickness', 'Insulin',\n",
      "       'BMI', 'DiabetesPedigreeFunction', 'Age', 'Outcome'],\n",
      "      dtype='object')\n",
      "6912\n",
      "(768, 9)\n"
     ]
    }
   ],
   "source": [
    "print(df.columns)\n",
    "print(df.size)\n",
    "print(df.shape)"
   ]
  },
  {
   "cell_type": "markdown",
   "id": "31e0a30d-9250-47eb-ae36-87a3d0801a09",
   "metadata": {},
   "source": [
    "###### Pregnancies: Number of times pregnant\n",
    "###### Glucose: Plasma glucose concentration over 2 hours in an oral glucose tolerance test\n",
    "###### Blood Pressure: Diastolic blood pressure (mm Hg)\n",
    "###### Skin Thickness: Triceps skinfold thickness (mm)\n",
    "###### Insulin: 2-hour serum insulin (mu U/ml)\n",
    "###### BMI: Body mass index (weight in kg/(height in m)^2)\n",
    "###### Diabetes Pedigree Function: A function that scores the likelihood of diabetes based on family history\n",
    "###### Age: Age in years"
   ]
  },
  {
   "cell_type": "code",
   "execution_count": 5,
   "id": "6b361e43",
   "metadata": {},
   "outputs": [],
   "source": [
    "df['Glucose'] = df['Glucose'].replace(0, df['Glucose'].median())  \n",
    "\n",
    "df['BloodPressure'] = df['BloodPressure'].replace(0, df['BloodPressure'].median())   \n",
    "\n",
    "df['BMI'] = df['BMI'].replace(0, df['BMI'].mean())  \n",
    "\n",
    "df['SkinThickness'] = df['SkinThickness'].replace(0, df['SkinThickness'].mean())  \n",
    "\n",
    "df['Insulin'] = df['Insulin'].replace(0, df['Insulin'].mean())"
   ]
  },
  {
   "cell_type": "code",
   "execution_count": 6,
   "id": "fbacae63",
   "metadata": {},
   "outputs": [
    {
     "data": {
      "text/html": [
       "<div>\n",
       "<style scoped>\n",
       "    .dataframe tbody tr th:only-of-type {\n",
       "        vertical-align: middle;\n",
       "    }\n",
       "\n",
       "    .dataframe tbody tr th {\n",
       "        vertical-align: top;\n",
       "    }\n",
       "\n",
       "    .dataframe thead th {\n",
       "        text-align: right;\n",
       "    }\n",
       "</style>\n",
       "<table border=\"1\" class=\"dataframe\">\n",
       "  <thead>\n",
       "    <tr style=\"text-align: right;\">\n",
       "      <th></th>\n",
       "      <th>Pregnancies</th>\n",
       "      <th>Glucose</th>\n",
       "      <th>BloodPressure</th>\n",
       "      <th>SkinThickness</th>\n",
       "      <th>Insulin</th>\n",
       "      <th>BMI</th>\n",
       "      <th>DiabetesPedigreeFunction</th>\n",
       "      <th>Age</th>\n",
       "      <th>Outcome</th>\n",
       "    </tr>\n",
       "  </thead>\n",
       "  <tbody>\n",
       "    <tr>\n",
       "      <th>0</th>\n",
       "      <td>6</td>\n",
       "      <td>148</td>\n",
       "      <td>72</td>\n",
       "      <td>35.0</td>\n",
       "      <td>300.0</td>\n",
       "      <td>33.6</td>\n",
       "      <td>0.627</td>\n",
       "      <td>50</td>\n",
       "      <td>1</td>\n",
       "    </tr>\n",
       "    <tr>\n",
       "      <th>1</th>\n",
       "      <td>1</td>\n",
       "      <td>85</td>\n",
       "      <td>66</td>\n",
       "      <td>29.0</td>\n",
       "      <td>190.0</td>\n",
       "      <td>26.6</td>\n",
       "      <td>0.351</td>\n",
       "      <td>31</td>\n",
       "      <td>0</td>\n",
       "    </tr>\n",
       "    <tr>\n",
       "      <th>2</th>\n",
       "      <td>5</td>\n",
       "      <td>183</td>\n",
       "      <td>64</td>\n",
       "      <td>30.0</td>\n",
       "      <td>350.0</td>\n",
       "      <td>23.3</td>\n",
       "      <td>0.672</td>\n",
       "      <td>32</td>\n",
       "      <td>1</td>\n",
       "    </tr>\n",
       "    <tr>\n",
       "      <th>3</th>\n",
       "      <td>1</td>\n",
       "      <td>89</td>\n",
       "      <td>66</td>\n",
       "      <td>23.0</td>\n",
       "      <td>94.0</td>\n",
       "      <td>28.1</td>\n",
       "      <td>0.167</td>\n",
       "      <td>21</td>\n",
       "      <td>0</td>\n",
       "    </tr>\n",
       "    <tr>\n",
       "      <th>4</th>\n",
       "      <td>0</td>\n",
       "      <td>137</td>\n",
       "      <td>40</td>\n",
       "      <td>35.0</td>\n",
       "      <td>168.0</td>\n",
       "      <td>43.1</td>\n",
       "      <td>2.288</td>\n",
       "      <td>33</td>\n",
       "      <td>1</td>\n",
       "    </tr>\n",
       "  </tbody>\n",
       "</table>\n",
       "</div>"
      ],
      "text/plain": [
       "   Pregnancies  Glucose  BloodPressure  SkinThickness  Insulin   BMI  \\\n",
       "0            6      148             72           35.0    300.0  33.6   \n",
       "1            1       85             66           29.0    190.0  26.6   \n",
       "2            5      183             64           30.0    350.0  23.3   \n",
       "3            1       89             66           23.0     94.0  28.1   \n",
       "4            0      137             40           35.0    168.0  43.1   \n",
       "\n",
       "   DiabetesPedigreeFunction  Age  Outcome  \n",
       "0                     0.627   50        1  \n",
       "1                     0.351   31        0  \n",
       "2                     0.672   32        1  \n",
       "3                     0.167   21        0  \n",
       "4                     2.288   33        1  "
      ]
     },
     "execution_count": 6,
     "metadata": {},
     "output_type": "execute_result"
    }
   ],
   "source": [
    "df.head()"
   ]
  },
  {
   "cell_type": "code",
   "execution_count": 7,
   "id": "97b5692d",
   "metadata": {
    "scrolled": true
   },
   "outputs": [],
   "source": [
    "# plt.plot(df['Pregnancies'][df['Outcome']==0], color = 'r')\n",
    "# plt.show()"
   ]
  },
  {
   "cell_type": "code",
   "execution_count": 8,
   "id": "a1076061",
   "metadata": {
    "scrolled": true
   },
   "outputs": [],
   "source": [
    "# plt.hist(df['Pregnancies'][df['Outcome']==0], color = 'b')"
   ]
  },
  {
   "cell_type": "code",
   "execution_count": 9,
   "id": "bceb531c",
   "metadata": {
    "scrolled": true
   },
   "outputs": [],
   "source": [
    "# plt.hist(df['Pregnancies'][df['Outcome']==1])"
   ]
  },
  {
   "cell_type": "code",
   "execution_count": 10,
   "id": "7732cdaa",
   "metadata": {
    "scrolled": true
   },
   "outputs": [],
   "source": [
    "# plt.hist(df['Pregnancies'][df['Outcome']==0],alpha=0.5, color = 'b')\n",
    "# plt.hist(df['Pregnancies'][df['Outcome']==1], color = 'r',alpha=0.5)"
   ]
  },
  {
   "cell_type": "code",
   "execution_count": 11,
   "id": "d8e976fe",
   "metadata": {
    "scrolled": true
   },
   "outputs": [],
   "source": [
    "# plt.hist(df['Glucose'][df['Outcome']==0],alpha=0.5, color = 'b')\n",
    "# plt.hist(df['Glucose'][df['Outcome']==1], color = 'r',alpha=0.5)"
   ]
  },
  {
   "cell_type": "code",
   "execution_count": 12,
   "id": "e79ae756",
   "metadata": {
    "scrolled": true
   },
   "outputs": [],
   "source": [
    "# print('Pregnancies')\n",
    "# plt.hist(df['Pregnancies'][df['Outcome']==0],alpha=0.5, color = 'b')\n",
    "# plt.hist(df['Pregnancies'][df['Outcome']==1], color = 'r',alpha=0.5)\n",
    "# plt.show()\n",
    "# print('Glucose')\n",
    "# plt.hist(df['Glucose'][df['Outcome']==0],alpha=0.5, color = 'b')\n",
    "# plt.hist(df['Glucose'][df['Outcome']==1], color = 'r',alpha=0.5)\n",
    "# plt.show()"
   ]
  },
  {
   "cell_type": "code",
   "execution_count": 13,
   "id": "c4046705",
   "metadata": {
    "jupyter": {
     "source_hidden": true
    },
    "scrolled": true,
    "tags": []
   },
   "outputs": [
    {
     "name": "stdout",
     "output_type": "stream",
     "text": [
      "Pregnancies\n"
     ]
    },
    {
     "data": {
      "image/png": "[encoded data removed]",
      "text/plain": [
       "<Figure size 640x480 with 1 Axes>"
      ]
     },
     "metadata": {},
     "output_type": "display_data"
    },
    {
     "name": "stdout",
     "output_type": "stream",
     "text": [
      "Glucose\n"
     ]
    },
    {
     "data": {
      "image/png": "[encoded data removed]",
      "text/plain": [
       "<Figure size 640x480 with 1 Axes>"
      ]
     },
     "metadata": {},
     "output_type": "display_data"
    },
    {
     "name": "stdout",
     "output_type": "stream",
     "text": [
      "BloodPressure\n"
     ]
    },
    {
     "data": {
      "image/png": "[encoded data removed]",
      "text/plain": [
       "<Figure size 640x480 with 1 Axes>"
      ]
     },
     "metadata": {},
     "output_type": "display_data"
    },
    {
     "name": "stdout",
     "output_type": "stream",
     "text": [
      "SkinThickness\n"
     ]
    },
    {
     "data": {
      "image/png": "[encoded data removed]",
      "text/plain": [
       "<Figure size 640x480 with 1 Axes>"
      ]
     },
     "metadata": {},
     "output_type": "display_data"
    },
    {
     "name": "stdout",
     "output_type": "stream",
     "text": [
      "Insulin\n"
     ]
    },
    {
     "data": {
      "image/png": "[encoded data removed]",
      "text/plain": [
       "<Figure size 640x480 with 1 Axes>"
      ]
     },
     "metadata": {},
     "output_type": "display_data"
    },
    {
     "name": "stdout",
     "output_type": "stream",
     "text": [
      "BMI\n"
     ]
    },
    {
     "data": {
      "image/png": "[encoded data removed]",
      "text/plain": [
       "<Figure size 640x480 with 1 Axes>"
      ]
     },
     "metadata": {},
     "output_type": "display_data"
    },
    {
     "name": "stdout",
     "output_type": "stream",
     "text": [
      "DiabetesPedigreeFunction\n"
     ]
    },
    {
     "data": {
      "image/png": "[encoded data removed]",
      "text/plain": [
       "<Figure size 640x480 with 1 Axes>"
      ]
     },
     "metadata": {},
     "output_type": "display_data"
    },
    {
     "name": "stdout",
     "output_type": "stream",
     "text": [
      "Age\n"
     ]
    },
    {
     "data": {
      "image/png": "[encoded data removed]",
      "text/plain": [
       "<Figure size 640x480 with 1 Axes>"
      ]
     },
     "metadata": {},
     "output_type": "display_data"
    }
   ],
   "source": [
    "print('Pregnancies')\n",
    "plt.hist(df['Pregnancies'][df['Outcome']==0],alpha=0.5, color = 'b')\n",
    "plt.hist(df['Pregnancies'][df['Outcome']==1], color = 'r',alpha=0.5)\n",
    "plt.show()\n",
    "print('Glucose')\n",
    "plt.hist(df['Glucose'][df['Outcome']==0],alpha=0.5, color = 'b')\n",
    "plt.hist(df['Glucose'][df['Outcome']==1], color = 'r',alpha=0.5)\n",
    "plt.show()\n",
    "print('BloodPressure')\n",
    "plt.hist(df['BloodPressure'][df['Outcome']==0],alpha=0.5, color = 'b')\n",
    "plt.hist(df['BloodPressure'][df['Outcome']==1], color = 'r',alpha=0.5)\n",
    "plt.show()\n",
    "print('SkinThickness')\n",
    "plt.hist(df['SkinThickness'][df['Outcome']==0],alpha=0.5, color = 'b')\n",
    "plt.hist(df['SkinThickness'][df['Outcome']==1], color = 'r',alpha=0.5)\n",
    "plt.show()\n",
    "print('Insulin')\n",
    "plt.hist(df['Insulin'][df['Outcome']==0],alpha=0.5, color = 'b')\n",
    "plt.hist(df['Insulin'][df['Outcome']==1], color = 'r',alpha=0.5)\n",
    "plt.show()\n",
    "print('BMI')\n",
    "plt.hist(df['BMI'][df['Outcome']==0],alpha=0.5, color = 'b')\n",
    "plt.hist(df['BMI'][df['Outcome']==1], color = 'r',alpha=0.5)\n",
    "plt.show()\n",
    "print('DiabetesPedigreeFunction')\n",
    "plt.hist(df['DiabetesPedigreeFunction'][df['Outcome']==0],alpha=0.5, color = 'b')\n",
    "plt.hist(df['DiabetesPedigreeFunction'][df['Outcome']==1], color = 'r',alpha=0.5)\n",
    "plt.show()\n",
    "print('Age')\n",
    "plt.hist(df['Age'][df['Outcome']==0],alpha=0.5, color = 'b')\n",
    "plt.hist(df['Age'][df['Outcome']==1], color = 'r',alpha=0.5)\n",
    "plt.show()"
   ]
  },
  {
   "cell_type": "markdown",
   "id": "62a3c02f",
   "metadata": {},
   "source": [
    "## Dataframe no 2 (apply this)"
   ]
  },
  {
   "cell_type": "code",
   "execution_count": 14,
   "id": "fc383731",
   "metadata": {},
   "outputs": [
    {
     "name": "stdout",
     "output_type": "stream",
     "text": [
      "<class 'pandas.core.frame.DataFrame'>\n",
      "RangeIndex: 768 entries, 0 to 767\n",
      "Data columns (total 9 columns):\n",
      " #   Column                    Non-Null Count  Dtype  \n",
      "---  ------                    --------------  -----  \n",
      " 0   Pregnancies               768 non-null    int64  \n",
      " 1   Glucose                   768 non-null    int64  \n",
      " 2   BloodPressure             768 non-null    int64  \n",
      " 3   SkinThickness             768 non-null    int64  \n",
      " 4   Insulin                   768 non-null    int64  \n",
      " 5   BMI                       768 non-null    float64\n",
      " 6   DiabetesPedigreeFunction  768 non-null    float64\n",
      " 7   Age                       768 non-null    int64  \n",
      " 8   Outcome                   768 non-null    int64  \n",
      "dtypes: float64(2), int64(7)\n",
      "memory usage: 54.1 KB\n",
      "(768, 9)\n"
     ]
    }
   ],
   "source": [
    "df1 = pd.read_csv(\"diabetes.csv\")\n",
    "df1.info()\n",
    "print(df1.shape)"
   ]
  },
  {
   "cell_type": "code",
   "execution_count": 15,
   "id": "1976711a",
   "metadata": {},
   "outputs": [],
   "source": [
    "df1 = df1[(df1['Glucose'] != 0) & (df1['Insulin'] != 0)]\n",
    "df1 = df1[(df1['BloodPressure'] != 0) & (df1['SkinThickness'] != 0) & (df1['BMI'] != 0) & (df1['DiabetesPedigreeFunction'] != 0)]"
   ]
  },
  {
   "cell_type": "code",
   "execution_count": 16,
   "id": "9f00c902",
   "metadata": {},
   "outputs": [
    {
     "name": "stdout",
     "output_type": "stream",
     "text": [
      "(486, 9)\n"
     ]
    }
   ],
   "source": [
    "print(df1.shape)"
   ]
  },
  {
   "cell_type": "code",
   "execution_count": 17,
   "id": "f5055440",
   "metadata": {},
   "outputs": [
    {
     "data": {
      "text/html": [
       "<div>\n",
       "<style scoped>\n",
       "    .dataframe tbody tr th:only-of-type {\n",
       "        vertical-align: middle;\n",
       "    }\n",
       "\n",
       "    .dataframe tbody tr th {\n",
       "        vertical-align: top;\n",
       "    }\n",
       "\n",
       "    .dataframe thead th {\n",
       "        text-align: right;\n",
       "    }\n",
       "</style>\n",
       "<table border=\"1\" class=\"dataframe\">\n",
       "  <thead>\n",
       "    <tr style=\"text-align: right;\">\n",
       "      <th></th>\n",
       "      <th>Pregnancies</th>\n",
       "      <th>Glucose</th>\n",
       "      <th>BloodPressure</th>\n",
       "      <th>SkinThickness</th>\n",
       "      <th>Insulin</th>\n",
       "      <th>BMI</th>\n",
       "      <th>DiabetesPedigreeFunction</th>\n",
       "      <th>Age</th>\n",
       "      <th>Outcome</th>\n",
       "    </tr>\n",
       "  </thead>\n",
       "  <tbody>\n",
       "    <tr>\n",
       "      <th>0</th>\n",
       "      <td>6</td>\n",
       "      <td>148</td>\n",
       "      <td>72</td>\n",
       "      <td>35</td>\n",
       "      <td>300</td>\n",
       "      <td>33.6</td>\n",
       "      <td>0.627</td>\n",
       "      <td>50</td>\n",
       "      <td>1</td>\n",
       "    </tr>\n",
       "    <tr>\n",
       "      <th>1</th>\n",
       "      <td>1</td>\n",
       "      <td>85</td>\n",
       "      <td>66</td>\n",
       "      <td>29</td>\n",
       "      <td>190</td>\n",
       "      <td>26.6</td>\n",
       "      <td>0.351</td>\n",
       "      <td>31</td>\n",
       "      <td>0</td>\n",
       "    </tr>\n",
       "    <tr>\n",
       "      <th>2</th>\n",
       "      <td>5</td>\n",
       "      <td>183</td>\n",
       "      <td>64</td>\n",
       "      <td>30</td>\n",
       "      <td>350</td>\n",
       "      <td>23.3</td>\n",
       "      <td>0.672</td>\n",
       "      <td>32</td>\n",
       "      <td>1</td>\n",
       "    </tr>\n",
       "    <tr>\n",
       "      <th>3</th>\n",
       "      <td>1</td>\n",
       "      <td>89</td>\n",
       "      <td>66</td>\n",
       "      <td>23</td>\n",
       "      <td>94</td>\n",
       "      <td>28.1</td>\n",
       "      <td>0.167</td>\n",
       "      <td>21</td>\n",
       "      <td>0</td>\n",
       "    </tr>\n",
       "    <tr>\n",
       "      <th>4</th>\n",
       "      <td>0</td>\n",
       "      <td>137</td>\n",
       "      <td>40</td>\n",
       "      <td>35</td>\n",
       "      <td>168</td>\n",
       "      <td>43.1</td>\n",
       "      <td>2.288</td>\n",
       "      <td>33</td>\n",
       "      <td>1</td>\n",
       "    </tr>\n",
       "  </tbody>\n",
       "</table>\n",
       "</div>"
      ],
      "text/plain": [
       "   Pregnancies  Glucose  BloodPressure  SkinThickness  Insulin   BMI  \\\n",
       "0            6      148             72             35      300  33.6   \n",
       "1            1       85             66             29      190  26.6   \n",
       "2            5      183             64             30      350  23.3   \n",
       "3            1       89             66             23       94  28.1   \n",
       "4            0      137             40             35      168  43.1   \n",
       "\n",
       "   DiabetesPedigreeFunction  Age  Outcome  \n",
       "0                     0.627   50        1  \n",
       "1                     0.351   31        0  \n",
       "2                     0.672   32        1  \n",
       "3                     0.167   21        0  \n",
       "4                     2.288   33        1  "
      ]
     },
     "execution_count": 17,
     "metadata": {},
     "output_type": "execute_result"
    }
   ],
   "source": [
    "df1.head()"
   ]
  },
  {
   "cell_type": "code",
   "execution_count": 18,
   "id": "b9da3113-78b9-415a-b00a-3d9dd831999a",
   "metadata": {
    "tags": []
   },
   "outputs": [],
   "source": [
    "# df1.reset_index()\n",
    "# df1.head()"
   ]
  },
  {
   "cell_type": "code",
   "execution_count": 19,
   "id": "cfe07e4a-2e84-44ce-881e-e82d2994b003",
   "metadata": {
    "tags": []
   },
   "outputs": [
    {
     "data": {
      "text/html": [
       "<div>\n",
       "<style scoped>\n",
       "    .dataframe tbody tr th:only-of-type {\n",
       "        vertical-align: middle;\n",
       "    }\n",
       "\n",
       "    .dataframe tbody tr th {\n",
       "        vertical-align: top;\n",
       "    }\n",
       "\n",
       "    .dataframe thead th {\n",
       "        text-align: right;\n",
       "    }\n",
       "</style>\n",
       "<table border=\"1\" class=\"dataframe\">\n",
       "  <thead>\n",
       "    <tr style=\"text-align: right;\">\n",
       "      <th></th>\n",
       "      <th>Pregnancies</th>\n",
       "      <th>Glucose</th>\n",
       "      <th>BloodPressure</th>\n",
       "      <th>SkinThickness</th>\n",
       "      <th>Insulin</th>\n",
       "      <th>BMI</th>\n",
       "      <th>DiabetesPedigreeFunction</th>\n",
       "      <th>Age</th>\n",
       "      <th>Outcome</th>\n",
       "    </tr>\n",
       "  </thead>\n",
       "  <tbody>\n",
       "    <tr>\n",
       "      <th>0</th>\n",
       "      <td>6</td>\n",
       "      <td>148</td>\n",
       "      <td>72</td>\n",
       "      <td>35</td>\n",
       "      <td>300</td>\n",
       "      <td>33.6</td>\n",
       "      <td>0.627</td>\n",
       "      <td>50</td>\n",
       "      <td>1</td>\n",
       "    </tr>\n",
       "    <tr>\n",
       "      <th>1</th>\n",
       "      <td>1</td>\n",
       "      <td>85</td>\n",
       "      <td>66</td>\n",
       "      <td>29</td>\n",
       "      <td>190</td>\n",
       "      <td>26.6</td>\n",
       "      <td>0.351</td>\n",
       "      <td>31</td>\n",
       "      <td>0</td>\n",
       "    </tr>\n",
       "    <tr>\n",
       "      <th>2</th>\n",
       "      <td>5</td>\n",
       "      <td>183</td>\n",
       "      <td>64</td>\n",
       "      <td>30</td>\n",
       "      <td>350</td>\n",
       "      <td>23.3</td>\n",
       "      <td>0.672</td>\n",
       "      <td>32</td>\n",
       "      <td>1</td>\n",
       "    </tr>\n",
       "    <tr>\n",
       "      <th>3</th>\n",
       "      <td>1</td>\n",
       "      <td>89</td>\n",
       "      <td>66</td>\n",
       "      <td>23</td>\n",
       "      <td>94</td>\n",
       "      <td>28.1</td>\n",
       "      <td>0.167</td>\n",
       "      <td>21</td>\n",
       "      <td>0</td>\n",
       "    </tr>\n",
       "    <tr>\n",
       "      <th>4</th>\n",
       "      <td>0</td>\n",
       "      <td>137</td>\n",
       "      <td>40</td>\n",
       "      <td>35</td>\n",
       "      <td>168</td>\n",
       "      <td>43.1</td>\n",
       "      <td>2.288</td>\n",
       "      <td>33</td>\n",
       "      <td>1</td>\n",
       "    </tr>\n",
       "  </tbody>\n",
       "</table>\n",
       "</div>"
      ],
      "text/plain": [
       "   Pregnancies  Glucose  BloodPressure  SkinThickness  Insulin   BMI  \\\n",
       "0            6      148             72             35      300  33.6   \n",
       "1            1       85             66             29      190  26.6   \n",
       "2            5      183             64             30      350  23.3   \n",
       "3            1       89             66             23       94  28.1   \n",
       "4            0      137             40             35      168  43.1   \n",
       "\n",
       "   DiabetesPedigreeFunction  Age  Outcome  \n",
       "0                     0.627   50        1  \n",
       "1                     0.351   31        0  \n",
       "2                     0.672   32        1  \n",
       "3                     0.167   21        0  \n",
       "4                     2.288   33        1  "
      ]
     },
     "execution_count": 19,
     "metadata": {},
     "output_type": "execute_result"
    }
   ],
   "source": [
    "df1 = df1.reset_index(drop=True)\n",
    "df1.head()"
   ]
  },
  {
   "cell_type": "code",
   "execution_count": 20,
   "id": "beafb03b",
   "metadata": {},
   "outputs": [
    {
     "name": "stdout",
     "output_type": "stream",
     "text": [
      "(486, 9)\n"
     ]
    }
   ],
   "source": [
    "print(df1.shape)"
   ]
  },
  {
   "cell_type": "code",
   "execution_count": 21,
   "id": "8f4dc348-593a-4221-b93c-a11db2d373ab",
   "metadata": {
    "tags": []
   },
   "outputs": [
    {
     "data": {
      "text/html": [
       "<div>\n",
       "<style scoped>\n",
       "    .dataframe tbody tr th:only-of-type {\n",
       "        vertical-align: middle;\n",
       "    }\n",
       "\n",
       "    .dataframe tbody tr th {\n",
       "        vertical-align: top;\n",
       "    }\n",
       "\n",
       "    .dataframe thead th {\n",
       "        text-align: right;\n",
       "    }\n",
       "</style>\n",
       "<table border=\"1\" class=\"dataframe\">\n",
       "  <thead>\n",
       "    <tr style=\"text-align: right;\">\n",
       "      <th></th>\n",
       "      <th>Pregnancies</th>\n",
       "      <th>Glucose</th>\n",
       "      <th>BloodPressure</th>\n",
       "      <th>SkinThickness</th>\n",
       "      <th>Insulin</th>\n",
       "      <th>BMI</th>\n",
       "      <th>DiabetesPedigreeFunction</th>\n",
       "      <th>Age</th>\n",
       "      <th>Outcome</th>\n",
       "    </tr>\n",
       "  </thead>\n",
       "  <tbody>\n",
       "    <tr>\n",
       "      <th>0</th>\n",
       "      <td>6</td>\n",
       "      <td>148</td>\n",
       "      <td>72</td>\n",
       "      <td>35</td>\n",
       "      <td>300</td>\n",
       "      <td>33.6</td>\n",
       "      <td>0.627</td>\n",
       "      <td>50</td>\n",
       "      <td>1</td>\n",
       "    </tr>\n",
       "    <tr>\n",
       "      <th>1</th>\n",
       "      <td>1</td>\n",
       "      <td>85</td>\n",
       "      <td>66</td>\n",
       "      <td>29</td>\n",
       "      <td>190</td>\n",
       "      <td>26.6</td>\n",
       "      <td>0.351</td>\n",
       "      <td>31</td>\n",
       "      <td>0</td>\n",
       "    </tr>\n",
       "    <tr>\n",
       "      <th>2</th>\n",
       "      <td>5</td>\n",
       "      <td>183</td>\n",
       "      <td>64</td>\n",
       "      <td>30</td>\n",
       "      <td>350</td>\n",
       "      <td>23.3</td>\n",
       "      <td>0.672</td>\n",
       "      <td>32</td>\n",
       "      <td>1</td>\n",
       "    </tr>\n",
       "    <tr>\n",
       "      <th>3</th>\n",
       "      <td>1</td>\n",
       "      <td>89</td>\n",
       "      <td>66</td>\n",
       "      <td>23</td>\n",
       "      <td>94</td>\n",
       "      <td>28.1</td>\n",
       "      <td>0.167</td>\n",
       "      <td>21</td>\n",
       "      <td>0</td>\n",
       "    </tr>\n",
       "    <tr>\n",
       "      <th>4</th>\n",
       "      <td>0</td>\n",
       "      <td>137</td>\n",
       "      <td>40</td>\n",
       "      <td>35</td>\n",
       "      <td>168</td>\n",
       "      <td>43.1</td>\n",
       "      <td>2.288</td>\n",
       "      <td>33</td>\n",
       "      <td>1</td>\n",
       "    </tr>\n",
       "  </tbody>\n",
       "</table>\n",
       "</div>"
      ],
      "text/plain": [
       "   Pregnancies  Glucose  BloodPressure  SkinThickness  Insulin   BMI  \\\n",
       "0            6      148             72             35      300  33.6   \n",
       "1            1       85             66             29      190  26.6   \n",
       "2            5      183             64             30      350  23.3   \n",
       "3            1       89             66             23       94  28.1   \n",
       "4            0      137             40             35      168  43.1   \n",
       "\n",
       "   DiabetesPedigreeFunction  Age  Outcome  \n",
       "0                     0.627   50        1  \n",
       "1                     0.351   31        0  \n",
       "2                     0.672   32        1  \n",
       "3                     0.167   21        0  \n",
       "4                     2.288   33        1  "
      ]
     },
     "execution_count": 21,
     "metadata": {},
     "output_type": "execute_result"
    }
   ],
   "source": [
    "df2 = df1\n",
    "df2.head()"
   ]
  },
  {
   "cell_type": "code",
   "execution_count": 22,
   "id": "dec07b7d",
   "metadata": {
    "tags": []
   },
   "outputs": [
    {
     "name": "stdout",
     "output_type": "stream",
     "text": [
      "Pregnancies\n"
     ]
    },
    {
     "data": {
      "image/png": "[encoded data removed]",
      "text/plain": [
       "<Figure size 640x480 with 1 Axes>"
      ]
     },
     "metadata": {},
     "output_type": "display_data"
    },
    {
     "name": "stdout",
     "output_type": "stream",
     "text": [
      "Glucose\n"
     ]
    },
    {
     "data": {
      "image/png": "[encoded data removed]",
      "text/plain": [
       "<Figure size 640x480 with 1 Axes>"
      ]
     },
     "metadata": {},
     "output_type": "display_data"
    },
    {
     "name": "stdout",
     "output_type": "stream",
     "text": [
      "BloodPressure\n"
     ]
    },
    {
     "data": {
      "image/png": "[encoded data removed]",
      "text/plain": [
       "<Figure size 640x480 with 1 Axes>"
      ]
     },
     "metadata": {},
     "output_type": "display_data"
    },
    {
     "name": "stdout",
     "output_type": "stream",
     "text": [
      "SkinThickness\n"
     ]
    },
    {
     "data": {
      "image/png": "[encoded data removed]",
      "text/plain": [
       "<Figure size 640x480 with 1 Axes>"
      ]
     },
     "metadata": {},
     "output_type": "display_data"
    },
    {
     "name": "stdout",
     "output_type": "stream",
     "text": [
      "Insulin\n"
     ]
    },
    {
     "data": {
      "image/png": "[encoded data removed]",
      "text/plain": [
       "<Figure size 640x480 with 1 Axes>"
      ]
     },
     "metadata": {},
     "output_type": "display_data"
    },
    {
     "name": "stdout",
     "output_type": "stream",
     "text": [
      "DiabetesPedigreeFunction\n"
     ]
    },
    {
     "data": {
      "image/png": "[encoded data removed]",
      "text/plain": [
       "<Figure size 640x480 with 1 Axes>"
      ]
     },
     "metadata": {},
     "output_type": "display_data"
    },
    {
     "name": "stdout",
     "output_type": "stream",
     "text": [
      "Age\n"
     ]
    },
    {
     "data": {
      "image/png": "[encoded data removed]",
      "text/plain": [
       "<Figure size 640x480 with 1 Axes>"
      ]
     },
     "metadata": {},
     "output_type": "display_data"
    }
   ],
   "source": [
    "print('Pregnancies')\n",
    "plt.hist(df1['Pregnancies'][df1['Outcome']==0],alpha=0.5, color = 'b')\n",
    "plt.hist(df1['Pregnancies'][df1['Outcome']==1], color = 'r',alpha=0.5)\n",
    "plt.show()\n",
    "\n",
    "print('Glucose')\n",
    "plt.hist(df1['Glucose'][df1['Outcome']==0],alpha=0.5, color = 'b')\n",
    "plt.hist(df1['Glucose'][df1['Outcome']==1], color = 'r',alpha=0.5)\n",
    "plt.show()\n",
    "\n",
    "print('BloodPressure')\n",
    "plt.hist(df1['BloodPressure'][df1['Outcome']==0],alpha=0.5, color = 'b')\n",
    "plt.hist(df1['BloodPressure'][df['Outcome']==1], color = 'r',alpha=0.5)\n",
    "plt.show()\n",
    "\n",
    "print('SkinThickness')\n",
    "plt.hist(df1['SkinThickness'][df1['Outcome']==0],alpha=0.5, color = 'b')\n",
    "plt.hist(df1['SkinThickness'][df1['Outcome']==1], color = 'r',alpha=0.5)\n",
    "plt.show()\n",
    "\n",
    "print('Insulin')\n",
    "plt.hist(df1['Insulin'][df1['Outcome']==0],alpha=0.5, color = 'b')\n",
    "plt.hist(df1['Insulin'][df1['Outcome']==1], color = 'r',alpha=0.5)\n",
    "plt.show()\n",
    "\n",
    "print('DiabetesPedigreeFunction')\n",
    "plt.hist(df1['DiabetesPedigreeFunction'][df1['Outcome']==0],alpha=0.5, color = 'b')\n",
    "plt.hist(df1['DiabetesPedigreeFunction'][df1['Outcome']==1], color = 'r',alpha=0.5)\n",
    "plt.show()\n",
    "\n",
    "print('Age')\n",
    "plt.hist(df1['Age'][df1['Outcome']==0],alpha=0.5, color = 'b')\n",
    "plt.hist(df1['Age'][df1['Outcome']==1], color = 'r',alpha=0.5)\n",
    "plt.show()"
   ]
  },
  {
   "cell_type": "markdown",
   "id": "1a9781aa",
   "metadata": {},
   "source": [
    "## Model"
   ]
  },
  {
   "cell_type": "markdown",
   "id": "eaa428f6",
   "metadata": {},
   "source": [
    "#### We will be using Random Forest classifier and applying Marine Predator Algorithm on it.\n",
    "\n",
    "### Why?\n",
    "Random Forest is an ensemble learning method that combines multiple decision trees to improve the accuracy and robustness of the model. It's particularly well-suited for diabetes prediction due to its ability to:\n",
    "\n",
    "1) <ins>Handle high-dimensional data:</ins> Random Forest can handle large datasets with many features, which is common in diabetes prediction where multiple risk factors and biomarkers are involved.\n",
    "2) <ins>Reduce overfitting:</ins> Random Forest's ensemble approach and bagging technique help reduce overfitting and improve the model's generalizability.\n",
    "3) <ins>Provide feature importance:</ins> Random Forest can provide feature importance scores, which can help identify the most relevant risk factors and biomarkers for diabetes prediction.\n",
    "#### When using MPA to tune the hyperparameters of a Random Forest model, you can expect the following benefits:\n",
    "\n",
    "1) <ins>Improved accuracy:</ins> MPA can help find the optimal hyperparameters for the Random Forest model, leading to improved accuracy in diabetes prediction.\n",
    "2) <ins>Optimal feature selection:</ins> MPA can help select the most important features and hyperparameters, which can improve the model's interpretability and reduce the risk of overfitting.\n",
    "3) <ins>Robustness to hyperparameter tuning:</ins> MPA can help reduce the sensitivity of the model to hyperparameter tuning, making it more robust and reliable."
   ]
  },
  {
   "cell_type": "markdown",
   "id": "1b612a42-7967-43cb-97f1-cbc7833640f4",
   "metadata": {},
   "source": [
    "### How?"
   ]
  },
  {
   "cell_type": "markdown",
   "id": "fd5ac3a4-bbfb-4f25-9fa7-7ab6cd8af3f0",
   "metadata": {},
   "source": [
    "##### Some potential hyperparameters to tune in a Random Forest model using MPA include:\n",
    "\n",
    "1) <ins>Number of estimators (n_estimators):</ins> The number of decision trees in the ensemble.\n",
    "\n",
    "2) <ins>Maximum depth (max_depth):</ins> The maximum depth of each decision tree.\n",
    "\n",
    "3) <ins>Learning rate (learning_rate):</ins> The rate at which the model learns from the data.\n",
    "\n",
    "4) <ins>Feature importance (feature_importances_):</ins> The importance of each feature in the model.\n",
    "\n",
    "##### Here's a high-level outline of how you can apply the MPA to your Random Forest model:\n",
    "\n",
    "1) <ins>Define the optimization problem:</ins> Identify the hyperparameters of your Random Forest model that you want to tune, such as the number of estimators, maximum depth, or learning rate.\n",
    "\n",
    "2) <ins>Initialize the MPA:</ins> Initialize a population of marine predators, each representing a set of hyperparameters.\n",
    "\n",
    "3) <ins>Evaluate the fitness:</ins> Evaluate the fitness of each predator by training a Random Forest model with the corresponding hyperparameters and calculating its accuracy on a validation set.\n",
    "\n",
    "4) <ins>Update the predators:</ins> Update the position of each predator based on the MPA's hunting behavior rules.\n",
    "\n",
    "5) <ins>Repeat the process:</ins> Repeat steps 3-4 until a stopping criterion is reached, such as a maximum number of iterations.\n",
    "\n",
    "6) <ins>Select the best hyperparameters:</ins> Select the hyperparameters corresponding to the fittest predator and use them to train your final Random Forest model.\n",
    "\n",
    "#### Note:\n",
    "Implementing the MPA from scratch can be complex and time-consuming. You may want to consider using existing libraries or frameworks that provide implementations of the MPA.\n",
    "\n",
    "Also, keep in mind that the MPA is a relatively new optimization algorithm, and its effectiveness for hyperparameter tuning in machine learning models is still being researched. You may want to compare its performance with other optimization algorithms, such as grid search or Bayesian optimization, to determine which one works best for your specific problem."
   ]
  },
  {
   "cell_type": "markdown",
   "id": "5d36b0cd-48d6-4e10-8a25-5a58ca4723db",
   "metadata": {},
   "source": [
    "### Other Models that can be used with MPA\n",
    "For diabetes prediction, MPA may work well with models that have a large number of hyperparameters to tune, such as:\n",
    "\n",
    "1) <ins>Neural Networks:</ins> Neural networks have many hyperparameters, such as the number of hidden layers, number of neurons, learning rate, and activation functions, that can be tuned using MPA.\n",
    "2) <ins>Support Vector Machines (SVMs):</ins> SVMs have hyperparameters like the kernel type, regularization parameter, and kernel coefficients that can be optimized using MPA.\n",
    "3) <ins>Gradient Boosting Machines (GBMs):</ins> GBMs have hyperparameters like the learning rate, number of estimators, and maximum depth that can be tuned using MPA."
   ]
  },
  {
   "cell_type": "code",
   "execution_count": 23,
   "id": "ae70369d-82b9-456c-8754-7aff7d61f9f7",
   "metadata": {
    "tags": []
   },
   "outputs": [],
   "source": [
    "%matplotlib inline"
   ]
  },
  {
   "cell_type": "code",
   "execution_count": 24,
   "id": "bd6d79bb-bd27-4f06-b015-2f60959a5698",
   "metadata": {
    "tags": []
   },
   "outputs": [],
   "source": [
    "from pandas.plotting import scatter_matrix\n",
    "from sklearn.preprocessing import StandardScaler\n",
    "from sklearn.model_selection import train_test_split\n",
    "from sklearn.ensemble import RandomForestClassifier\n",
    "\n",
    "from sklearn.metrics import confusion_matrix\n",
    "from sklearn import metrics\n",
    "from sklearn.metrics import classification_report\n",
    "import warnings\n",
    "warnings.filterwarnings('ignore')\n"
   ]
  },
  {
   "cell_type": "code",
   "execution_count": 25,
   "id": "e17a5d07-3e0b-494f-bc51-f6c33974cccc",
   "metadata": {
    "tags": []
   },
   "outputs": [
    {
     "data": {
      "image/png": "[encoded data removed]",
      "text/plain": [
       "<Figure size 2000x2000 with 9 Axes>"
      ]
     },
     "metadata": {},
     "output_type": "display_data"
    }
   ],
   "source": [
    "p = df1.hist(figsize=(20, 20))"
   ]
  },
  {
   "cell_type": "markdown",
   "id": "be4a5e2f-bc18-48a9-9cc3-fc0da7223c4b",
   "metadata": {
    "tags": []
   },
   "source": [
    "### Applying Standard Scaling\n",
    "##### Standard scaling helps normalize the data, ensuring that each feature contributes equally to the machine-learning model."
   ]
  },
  {
   "cell_type": "code",
   "execution_count": 26,
   "id": "810f8cdd-5a74-496f-b639-401486caf06e",
   "metadata": {
    "tags": []
   },
   "outputs": [
    {
     "data": {
      "text/html": [
       "<div>\n",
       "<style scoped>\n",
       "    .dataframe tbody tr th:only-of-type {\n",
       "        vertical-align: middle;\n",
       "    }\n",
       "\n",
       "    .dataframe tbody tr th {\n",
       "        vertical-align: top;\n",
       "    }\n",
       "\n",
       "    .dataframe thead th {\n",
       "        text-align: right;\n",
       "    }\n",
       "</style>\n",
       "<table border=\"1\" class=\"dataframe\">\n",
       "  <thead>\n",
       "    <tr style=\"text-align: right;\">\n",
       "      <th></th>\n",
       "      <th>Pregnancies</th>\n",
       "      <th>Glucose</th>\n",
       "      <th>BloodPressure</th>\n",
       "      <th>SkinThickness</th>\n",
       "      <th>Insulin</th>\n",
       "      <th>BMI</th>\n",
       "      <th>DiabetesPedigreeFunction</th>\n",
       "      <th>Age</th>\n",
       "    </tr>\n",
       "  </thead>\n",
       "  <tbody>\n",
       "    <tr>\n",
       "      <th>0</th>\n",
       "      <td>0.828398</td>\n",
       "      <td>0.825825</td>\n",
       "      <td>0.040642</td>\n",
       "      <td>0.597930</td>\n",
       "      <td>1.053656</td>\n",
       "      <td>-0.004586</td>\n",
       "      <td>0.360138</td>\n",
       "      <td>1.665865</td>\n",
       "    </tr>\n",
       "    <tr>\n",
       "      <th>1</th>\n",
       "      <td>-0.774315</td>\n",
       "      <td>-1.206250</td>\n",
       "      <td>-0.433403</td>\n",
       "      <td>0.014603</td>\n",
       "      <td>0.140641</td>\n",
       "      <td>-0.352820</td>\n",
       "      <td>-0.463983</td>\n",
       "      <td>-0.088937</td>\n",
       "    </tr>\n",
       "    <tr>\n",
       "      <th>2</th>\n",
       "      <td>0.507855</td>\n",
       "      <td>1.954755</td>\n",
       "      <td>-0.591418</td>\n",
       "      <td>0.111824</td>\n",
       "      <td>1.468663</td>\n",
       "      <td>-0.516987</td>\n",
       "      <td>0.494506</td>\n",
       "      <td>0.003421</td>\n",
       "    </tr>\n",
       "    <tr>\n",
       "      <th>3</th>\n",
       "      <td>-0.774315</td>\n",
       "      <td>-1.077229</td>\n",
       "      <td>-0.433403</td>\n",
       "      <td>-0.568723</td>\n",
       "      <td>-0.656172</td>\n",
       "      <td>-0.278198</td>\n",
       "      <td>-1.013397</td>\n",
       "      <td>-1.012518</td>\n",
       "    </tr>\n",
       "    <tr>\n",
       "      <th>4</th>\n",
       "      <td>-1.094857</td>\n",
       "      <td>0.471018</td>\n",
       "      <td>-2.487598</td>\n",
       "      <td>0.597930</td>\n",
       "      <td>-0.041962</td>\n",
       "      <td>0.468017</td>\n",
       "      <td>5.319796</td>\n",
       "      <td>0.095779</td>\n",
       "    </tr>\n",
       "  </tbody>\n",
       "</table>\n",
       "</div>"
      ],
      "text/plain": [
       "   Pregnancies   Glucose  BloodPressure  SkinThickness   Insulin       BMI  \\\n",
       "0     0.828398  0.825825       0.040642       0.597930  1.053656 -0.004586   \n",
       "1    -0.774315 -1.206250      -0.433403       0.014603  0.140641 -0.352820   \n",
       "2     0.507855  1.954755      -0.591418       0.111824  1.468663 -0.516987   \n",
       "3    -0.774315 -1.077229      -0.433403      -0.568723 -0.656172 -0.278198   \n",
       "4    -1.094857  0.471018      -2.487598       0.597930 -0.041962  0.468017   \n",
       "\n",
       "   DiabetesPedigreeFunction       Age  \n",
       "0                  0.360138  1.665865  \n",
       "1                 -0.463983 -0.088937  \n",
       "2                  0.494506  0.003421  \n",
       "3                 -1.013397 -1.012518  \n",
       "4                  5.319796  0.095779  "
      ]
     },
     "execution_count": 26,
     "metadata": {},
     "output_type": "execute_result"
    }
   ],
   "source": [
    "from sklearn.preprocessing import StandardScaler\n",
    "\n",
    "sc_X = StandardScaler()\n",
    "X = pd.DataFrame(sc_X.fit_transform(df1.drop(['Outcome'], axis=1)), \n",
    "\n",
    "columns=['Pregnancies', 'Glucose', 'BloodPressure', 'SkinThickness', 'Insulin', 'BMI', 'DiabetesPedigreeFunction', 'Age'])\n",
    "\n",
    "X.head()"
   ]
  },
  {
   "cell_type": "code",
   "execution_count": 27,
   "id": "88fa7aab-8bbd-4ebe-9d70-90b9f5479587",
   "metadata": {},
   "outputs": [
    {
     "data": {
      "text/plain": [
       "0    1\n",
       "1    0\n",
       "2    1\n",
       "3    0\n",
       "4    1\n",
       "Name: Outcome, dtype: int64"
      ]
     },
     "execution_count": 27,
     "metadata": {},
     "output_type": "execute_result"
    }
   ],
   "source": [
    "y = df1.Outcome\n",
    "y.head()"
   ]
  },
  {
   "cell_type": "markdown",
   "id": "c6580b00-48eb-4cbf-bfe3-7fdfc904c92e",
   "metadata": {
    "tags": []
   },
   "source": [
    "### Evaluating the performance of ML models:\n",
    "#### <b>1) Precision:</b>\n",
    "##### Precision measures the proportion of true positive predictions among all positive predictions made by the model.\n",
    "#### <b>2) Recall (Sensitivity):</b>\n",
    "##### Recall measures the proportion of true positive predictions among all actual positive instances in the dataset.\n",
    "#### <b>3) F1-score:</b>\n",
    "##### F1-score is the harmonic mean of precision and recall. It provides a single metric that combines both precision and recall, balancing the trade-off between the two.\n",
    "#### <b>4) Support:</b>\n",
    "##### Support refers to the number of actual occurrences of the class in the dataset. It is the number of instances in each class."
   ]
  },
  {
   "cell_type": "markdown",
   "id": "74ea0c0c-fe13-4c20-898e-89f3b1d3f301",
   "metadata": {},
   "source": [
    "### Some hyperparamters used in RandomForestClassifier:\n",
    "#### <b>n_estimators:</b> The number of decision trees in the forest.\n",
    "#### <b>random_state:</b> controls the randomness of the sample and ensures that the same results are produced each time the code is run.\n",
    "\n",
    "### <b><ins>NOTE:</ins></b>\n",
    "##### We will keep random_state = 42\n",
    "##### <b>Why?</b> I tested for 7 and the  predictions came to be 0 but for the same tests and values i got the prediction 1 for most of the other random_states i checked including 42 and since random_state 42 gives more consistent predictions and also is more widely used we will be sticking to it.\n",
    "##### Test values used for predictions= [0, 137, 40, 35, 168, 43.1, 2.228, 33] & [10, 101, 76, 48, 180, 32.9, 0.171, 63]"
   ]
  },
  {
   "cell_type": "markdown",
   "id": "fdfe479b-83b0-485c-b210-11910e028266",
   "metadata": {},
   "source": [
    "## TEST 1:\n",
    "#### Test size = 0.33\n",
    "#### Accuracy = 0.76"
   ]
  },
  {
   "cell_type": "code",
   "execution_count": 28,
   "id": "f7fc737e-5bf5-454b-b659-f35412a769f6",
   "metadata": {
    "tags": []
   },
   "outputs": [],
   "source": [
    "X_train_1, X_test_1, y_train_1, y_test_1 = train_test_split(X, y, test_size=0.33, random_state=42)"
   ]
  },
  {
   "cell_type": "code",
   "execution_count": 29,
   "id": "d96428a4-bd21-4940-860c-421e99b30ddc",
   "metadata": {
    "tags": []
   },
   "outputs": [
    {
     "data": {
      "text/html": [
       "<style>#sk-container-id-1 {color: black;}#sk-container-id-1 pre{padding: 0;}#sk-container-id-1 div.sk-toggleable {background-color: white;}#sk-container-id-1 label.sk-toggleable__label {cursor: pointer;display: block;width: 100%;margin-bottom: 0;padding: 0.3em;box-sizing: border-box;text-align: center;}#sk-container-id-1 label.sk-toggleable__label-arrow:before {content: \"▸\";float: left;margin-right: 0.25em;color: #696969;}#sk-container-id-1 label.sk-toggleable__label-arrow:hover:before {color: black;}#sk-container-id-1 div.sk-estimator:hover label.sk-toggleable__label-arrow:before {color: black;}#sk-container-id-1 div.sk-toggleable__content {max-height: 0;max-width: 0;overflow: hidden;text-align: left;background-color: #f0f8ff;}#sk-container-id-1 div.sk-toggleable__content pre {margin: 0.2em;color: black;border-radius: 0.25em;background-color: #f0f8ff;}#sk-container-id-1 input.sk-toggleable__control:checked~div.sk-toggleable__content {max-height: 200px;max-width: 100%;overflow: auto;}#sk-container-id-1 input.sk-toggleable__control:checked~label.sk-toggleable__label-arrow:before {content: \"▾\";}#sk-container-id-1 div.sk-estimator input.sk-toggleable__control:checked~label.sk-toggleable__label {background-color: #d4ebff;}#sk-container-id-1 div.sk-label input.sk-toggleable__control:checked~label.sk-toggleable__label {background-color: #d4ebff;}#sk-container-id-1 input.sk-hidden--visually {border: 0;clip: rect(1px 1px 1px 1px);clip: rect(1px, 1px, 1px, 1px);height: 1px;margin: -1px;overflow: hidden;padding: 0;position: absolute;width: 1px;}#sk-container-id-1 div.sk-estimator {font-family: monospace;background-color: #f0f8ff;border: 1px dotted black;border-radius: 0.25em;box-sizing: border-box;margin-bottom: 0.5em;}#sk-container-id-1 div.sk-estimator:hover {background-color: #d4ebff;}#sk-container-id-1 div.sk-parallel-item::after {content: \"\";width: 100%;border-bottom: 1px solid gray;flex-grow: 1;}#sk-container-id-1 div.sk-label:hover label.sk-toggleable__label {background-color: #d4ebff;}#sk-container-id-1 div.sk-serial::before {content: \"\";position: absolute;border-left: 1px solid gray;box-sizing: border-box;top: 0;bottom: 0;left: 50%;z-index: 0;}#sk-container-id-1 div.sk-serial {display: flex;flex-direction: column;align-items: center;background-color: white;padding-right: 0.2em;padding-left: 0.2em;position: relative;}#sk-container-id-1 div.sk-item {position: relative;z-index: 1;}#sk-container-id-1 div.sk-parallel {display: flex;align-items: stretch;justify-content: center;background-color: white;position: relative;}#sk-container-id-1 div.sk-item::before, #sk-container-id-1 div.sk-parallel-item::before {content: \"\";position: absolute;border-left: 1px solid gray;box-sizing: border-box;top: 0;bottom: 0;left: 50%;z-index: -1;}#sk-container-id-1 div.sk-parallel-item {display: flex;flex-direction: column;z-index: 1;position: relative;background-color: white;}#sk-container-id-1 div.sk-parallel-item:first-child::after {align-self: flex-end;width: 50%;}#sk-container-id-1 div.sk-parallel-item:last-child::after {align-self: flex-start;width: 50%;}#sk-container-id-1 div.sk-parallel-item:only-child::after {width: 0;}#sk-container-id-1 div.sk-dashed-wrapped {border: 1px dashed gray;margin: 0 0.4em 0.5em 0.4em;box-sizing: border-box;padding-bottom: 0.4em;background-color: white;}#sk-container-id-1 div.sk-label label {font-family: monospace;font-weight: bold;display: inline-block;line-height: 1.2em;}#sk-container-id-1 div.sk-label-container {text-align: center;}#sk-container-id-1 div.sk-container {/* jupyter's `normalize.less` sets `[hidden] { display: none; }` but bootstrap.min.css set `[hidden] { display: none !important; }` so we also need the `!important` here to be able to override the default hidden behavior on the sphinx rendered scikit-learn.org. See: https://github.com/scikit-learn/scikit-learn/issues/21755 */display: inline-block !important;position: relative;}#sk-container-id-1 div.sk-text-repr-fallback {display: none;}</style><div id=\"sk-container-id-1\" class=\"sk-top-container\"><div class=\"sk-text-repr-fallback\"><pre>RandomForestClassifier(n_estimators=200)</pre><b>In a Jupyter environment, please rerun this cell to show the HTML representation or trust the notebook. <br />On GitHub, the HTML representation is unable to render, please try loading this page with nbviewer.org.</b></div><div class=\"sk-container\" hidden><div class=\"sk-item\"><div class=\"sk-estimator sk-toggleable\"><input class=\"sk-toggleable__control sk-hidden--visually\" id=\"sk-estimator-id-1\" type=\"checkbox\" checked><label for=\"sk-estimator-id-1\" class=\"sk-toggleable__label sk-toggleable__label-arrow\">RandomForestClassifier</label><div class=\"sk-toggleable__content\"><pre>RandomForestClassifier(n_estimators=200)</pre></div></div></div></div></div>"
      ],
      "text/plain": [
       "RandomForestClassifier(n_estimators=200)"
      ]
     },
     "execution_count": 29,
     "metadata": {},
     "output_type": "execute_result"
    }
   ],
   "source": [
    "model_1 = RandomForestClassifier(n_estimators=200)\n",
    "model_1.fit(X_train_1, y_train_1)"
   ]
  },
  {
   "cell_type": "code",
   "execution_count": 30,
   "id": "1ed919b5-6fd7-4765-b717-9d7b28863f3e",
   "metadata": {
    "tags": []
   },
   "outputs": [
    {
     "name": "stdout",
     "output_type": "stream",
     "text": [
      "Training Accuracy = 1.0\n"
     ]
    }
   ],
   "source": [
    "model_1_train = model_1.predict(X_train_1)\n",
    "print(\"Training Accuracy =\", format(metrics.accuracy_score(y_train_1, model_1_train)))"
   ]
  },
  {
   "cell_type": "code",
   "execution_count": 31,
   "id": "3a4338ee-8d1d-4c6e-abad-ff5d14444dc7",
   "metadata": {
    "tags": []
   },
   "outputs": [
    {
     "name": "stdout",
     "output_type": "stream",
     "text": [
      "Test Accuracy = 0.7267080745341615\n"
     ]
    }
   ],
   "source": [
    "predictions = model_1.predict(X_test_1)\n",
    "print(\"Test Accuracy =\", format(metrics.accuracy_score(y_test_1, predictions)))"
   ]
  },
  {
   "cell_type": "code",
   "execution_count": 32,
   "id": "4d1995a2-5ee8-40c4-ac03-94845c77760c",
   "metadata": {
    "tags": []
   },
   "outputs": [
    {
     "name": "stdout",
     "output_type": "stream",
     "text": [
      "[[78 21]\n",
      " [23 39]]\n",
      "              precision    recall  f1-score   support\n",
      "\n",
      "           0       0.77      0.79      0.78        99\n",
      "           1       0.65      0.63      0.64        62\n",
      "\n",
      "    accuracy                           0.73       161\n",
      "   macro avg       0.71      0.71      0.71       161\n",
      "weighted avg       0.73      0.73      0.73       161\n",
      "\n"
     ]
    }
   ],
   "source": [
    "print(confusion_matrix(y_test_1, predictions))\n",
    "print(classification_report(y_test_1, predictions))"
   ]
  },
  {
   "cell_type": "code",
   "execution_count": 33,
   "id": "2aff280b-2fa6-4cb8-a594-e67690746544",
   "metadata": {
    "tags": []
   },
   "outputs": [
    {
     "data": {
      "text/plain": [
       "array([1], dtype=int64)"
      ]
     },
     "execution_count": 33,
     "metadata": {},
     "output_type": "execute_result"
    }
   ],
   "source": [
    "model_1.predict([[0, 137, 40, 35, 168, 43.1, 2.228, 33]])"
   ]
  },
  {
   "cell_type": "code",
   "execution_count": 34,
   "id": "c5de273b-5659-4dcb-a734-ba28f5e69967",
   "metadata": {
    "jupyter": {
     "source_hidden": true
    },
    "tags": []
   },
   "outputs": [
    {
     "data": {
      "text/plain": [
       "array([1], dtype=int64)"
      ]
     },
     "execution_count": 34,
     "metadata": {},
     "output_type": "execute_result"
    }
   ],
   "source": [
    "model_1.predict([[10, 101, 76, 48, 180, 32.9, 0.171, 63]])"
   ]
  },
  {
   "cell_type": "markdown",
   "id": "92289033-364a-4617-bb44-55316c22248b",
   "metadata": {},
   "source": [
    "## TEST 2:\n",
    "#### Test size = 0.25\n",
    "#### Accuracy = 0.77"
   ]
  },
  {
   "cell_type": "code",
   "execution_count": 35,
   "id": "1e8390a2-120f-4068-a68f-ea943e562ffd",
   "metadata": {
    "tags": []
   },
   "outputs": [],
   "source": [
    "X_train_2, X_test_2, y_train_2, y_test_2 = train_test_split(X, y, test_size=0.25, random_state=42)"
   ]
  },
  {
   "cell_type": "code",
   "execution_count": 36,
   "id": "d0204834-2257-41a2-9edd-1ecc2005e94c",
   "metadata": {
    "tags": []
   },
   "outputs": [
    {
     "name": "stdout",
     "output_type": "stream",
     "text": [
      "Training Accuracy = 1.0\n",
      "Test Accuracy = 0.7459016393442623\n"
     ]
    }
   ],
   "source": [
    "model_2 = RandomForestClassifier(n_estimators=200)\n",
    "model_2.fit(X_train_2, y_train_2)\n",
    "model_2_train = model_2.predict(X_train_2)\n",
    "print(\"Training Accuracy =\", format(metrics.accuracy_score(y_train_2, model_2_train)))\n",
    "predictions = model_2.predict(X_test_2)\n",
    "print(\"Test Accuracy =\", format(metrics.accuracy_score(y_test_2, predictions)))"
   ]
  },
  {
   "cell_type": "code",
   "execution_count": 37,
   "id": "14b7b737-dbd2-4a9c-b5e8-aed3c96ae20d",
   "metadata": {
    "jupyter": {
     "source_hidden": true
    },
    "tags": []
   },
   "outputs": [
    {
     "name": "stdout",
     "output_type": "stream",
     "text": [
      "[[66 16]\n",
      " [15 25]]\n",
      "              precision    recall  f1-score   support\n",
      "\n",
      "           0       0.81      0.80      0.81        82\n",
      "           1       0.61      0.62      0.62        40\n",
      "\n",
      "    accuracy                           0.75       122\n",
      "   macro avg       0.71      0.71      0.71       122\n",
      "weighted avg       0.75      0.75      0.75       122\n",
      "\n",
      "\n",
      "Predictions:\n"
     ]
    },
    {
     "data": {
      "text/plain": [
       "array([1], dtype=int64)"
      ]
     },
     "execution_count": 37,
     "metadata": {},
     "output_type": "execute_result"
    }
   ],
   "source": [
    "print(confusion_matrix(y_test_2, predictions))\n",
    "print(classification_report(y_test_2, predictions))\n",
    "print(\"\\nPredictions:\")\n",
    "model_2.predict([[0, 137, 40, 35, 168, 43.1, 2.228, 33]])"
   ]
  },
  {
   "cell_type": "code",
   "execution_count": 38,
   "id": "6753c826-cf1e-48fa-902a-712357599d6b",
   "metadata": {
    "jupyter": {
     "source_hidden": true
    },
    "tags": []
   },
   "outputs": [
    {
     "data": {
      "text/plain": [
       "array([1], dtype=int64)"
      ]
     },
     "execution_count": 38,
     "metadata": {},
     "output_type": "execute_result"
    }
   ],
   "source": [
    "model_2.predict([[10, 101, 76, 48, 180, 32.9, 0.171, 63]])"
   ]
  },
  {
   "cell_type": "code",
   "execution_count": null,
   "id": "96186bf3-e871-43e8-b7f2-52fca24ec938",
   "metadata": {
    "jupyter": {
     "source_hidden": true
    },
    "tags": []
   },
   "outputs": [],
   "source": []
  },
  {
   "cell_type": "markdown",
   "id": "dbfbd296-d154-497f-846d-4f67b22b41a7",
   "metadata": {},
   "source": [
    "## TEST 3:\n",
    "#### Test size = 0.33 , n_estimators = 400\n",
    "#### Accuracy = 0.74"
   ]
  },
  {
   "cell_type": "code",
   "execution_count": 39,
   "id": "97aa9cdb-a294-4f46-bece-3df0e0e9e03f",
   "metadata": {
    "jupyter": {
     "source_hidden": true
    },
    "tags": []
   },
   "outputs": [],
   "source": [
    "X_train_3, X_test_3, y_train_3, y_test_3 = train_test_split(X, y, test_size=0.33, random_state=42)"
   ]
  },
  {
   "cell_type": "code",
   "execution_count": 40,
   "id": "d8eb3bd4-51c5-42fa-b1a4-531ef181090b",
   "metadata": {
    "tags": []
   },
   "outputs": [
    {
     "name": "stdout",
     "output_type": "stream",
     "text": [
      "Training Accuracy = 1.0\n",
      "Test Accuracy = 0.7329192546583851\n"
     ]
    }
   ],
   "source": [
    "model_3 = RandomForestClassifier(n_estimators=400)\n",
    "model_3.fit(X_train_3, y_train_3)\n",
    "model_3_train = model_3.predict(X_train_3)\n",
    "print(\"Training Accuracy =\", format(metrics.accuracy_score(y_train_3, model_3_train)))\n",
    "predictions = model_3.predict(X_test_3)\n",
    "print(\"Test Accuracy =\", format(metrics.accuracy_score(y_test_3, predictions)))"
   ]
  },
  {
   "cell_type": "code",
   "execution_count": 41,
   "id": "5a986ed5-ab4a-445a-a765-62544c607688",
   "metadata": {
    "tags": []
   },
   "outputs": [
    {
     "name": "stdout",
     "output_type": "stream",
     "text": [
      "[[79 20]\n",
      " [23 39]]\n",
      "              precision    recall  f1-score   support\n",
      "\n",
      "           0       0.77      0.80      0.79        99\n",
      "           1       0.66      0.63      0.64        62\n",
      "\n",
      "    accuracy                           0.73       161\n",
      "   macro avg       0.72      0.71      0.72       161\n",
      "weighted avg       0.73      0.73      0.73       161\n",
      "\n",
      "\n",
      "Predictions:\n"
     ]
    },
    {
     "data": {
      "text/plain": [
       "array([1], dtype=int64)"
      ]
     },
     "execution_count": 41,
     "metadata": {},
     "output_type": "execute_result"
    }
   ],
   "source": [
    "print(confusion_matrix(y_test_3, predictions))\n",
    "print(classification_report(y_test_3, predictions))\n",
    "print(\"\\nPredictions:\")\n",
    "model_3.predict([[0, 137, 40, 35, 168, 43.1, 2.228, 33]])"
   ]
  },
  {
   "cell_type": "code",
   "execution_count": 42,
   "id": "9ff01f96-03b9-4a98-a67c-a09688dd4926",
   "metadata": {
    "tags": []
   },
   "outputs": [
    {
     "data": {
      "text/plain": [
       "array([1], dtype=int64)"
      ]
     },
     "execution_count": 42,
     "metadata": {},
     "output_type": "execute_result"
    }
   ],
   "source": [
    "model_3.predict([[10, 101, 76, 48, 180, 32.9, 0.171, 63]])"
   ]
  },
  {
   "cell_type": "markdown",
   "id": "a43c25a1-45cb-4ff9-8100-c2447a277705",
   "metadata": {},
   "source": [
    "## TEST 4:\n",
    "#### Test size = 0.33 , n_estimators = 100\n",
    "#### Accuracy = 0.75"
   ]
  },
  {
   "cell_type": "code",
   "execution_count": 43,
   "id": "1675b974-e85d-4b68-8cae-09be2a164c46",
   "metadata": {
    "tags": []
   },
   "outputs": [],
   "source": [
    "X_train_4, X_test_4, y_train_4, y_test_4 = train_test_split(X, y, test_size=0.33, random_state=42)"
   ]
  },
  {
   "cell_type": "code",
   "execution_count": 44,
   "id": "2d7fd8cf-3341-48b6-80aa-52bd019d28e4",
   "metadata": {
    "tags": []
   },
   "outputs": [
    {
     "name": "stdout",
     "output_type": "stream",
     "text": [
      "Training Accuracy = 1.0\n",
      "Test Accuracy = 0.7329192546583851\n"
     ]
    }
   ],
   "source": [
    "model_4 = RandomForestClassifier(n_estimators=100)\n",
    "model_4.fit(X_train_4, y_train_4)\n",
    "model_4_train = model_4.predict(X_train_4)\n",
    "print(\"Training Accuracy =\", format(metrics.accuracy_score(y_train_4, model_4_train)))\n",
    "predictions = model_4.predict(X_test_4)\n",
    "print(\"Test Accuracy =\", format(metrics.accuracy_score(y_test_4, predictions)))"
   ]
  },
  {
   "cell_type": "code",
   "execution_count": 45,
   "id": "a751b29c-11fc-435f-beba-b46d6a6de48d",
   "metadata": {
    "jupyter": {
     "source_hidden": true
    },
    "tags": []
   },
   "outputs": [
    {
     "name": "stdout",
     "output_type": "stream",
     "text": [
      "[[77 22]\n",
      " [21 41]]\n",
      "              precision    recall  f1-score   support\n",
      "\n",
      "           0       0.79      0.78      0.78        99\n",
      "           1       0.65      0.66      0.66        62\n",
      "\n",
      "    accuracy                           0.73       161\n",
      "   macro avg       0.72      0.72      0.72       161\n",
      "weighted avg       0.73      0.73      0.73       161\n",
      "\n",
      "\n",
      "Predictions:\n"
     ]
    },
    {
     "data": {
      "text/plain": [
       "array([0], dtype=int64)"
      ]
     },
     "execution_count": 45,
     "metadata": {},
     "output_type": "execute_result"
    }
   ],
   "source": [
    "print(confusion_matrix(y_test_4, predictions))\n",
    "print(classification_report(y_test_4, predictions))\n",
    "print(\"\\nPredictions:\")\n",
    "model_4.predict([[0, 137, 40, 35, 168, 43.1, 2.228, 33]])"
   ]
  },
  {
   "cell_type": "code",
   "execution_count": 46,
   "id": "4eb6b090-7859-466c-94ca-3e33e6f54f39",
   "metadata": {
    "jupyter": {
     "source_hidden": true
    },
    "tags": []
   },
   "outputs": [
    {
     "data": {
      "text/plain": [
       "array([1], dtype=int64)"
      ]
     },
     "execution_count": 46,
     "metadata": {},
     "output_type": "execute_result"
    }
   ],
   "source": [
    "model_4.predict([[10, 101, 76, 48, 180, 32.9, 0.171, 63]])"
   ]
  },
  {
   "cell_type": "markdown",
   "id": "bebe6817-3bb2-4685-b0b4-a33228e4e987",
   "metadata": {},
   "source": [
    "## TEST5:\n",
    "#### Test size = 0.33 , n_estimators = 1000\n",
    "#### Accuracy = 0.74"
   ]
  },
  {
   "cell_type": "code",
   "execution_count": 47,
   "id": "d444d013-b58f-4a4d-87ef-4eaf46f096e9",
   "metadata": {
    "tags": []
   },
   "outputs": [
    {
     "name": "stdout",
     "output_type": "stream",
     "text": [
      "Training Accuracy = 1.0\n",
      "Test Accuracy = 0.7391304347826086\n"
     ]
    }
   ],
   "source": [
    "X_train_5, X_test_5, y_train_5, y_test_5 = train_test_split(X, y, test_size=0.33, random_state=42)\n",
    "model_5 = RandomForestClassifier(n_estimators=1000)\n",
    "model_5.fit(X_train_5, y_train_5)\n",
    "model_5_train = model_5.predict(X_train_5)\n",
    "print(\"Training Accuracy =\", format(metrics.accuracy_score(y_train_5, model_5_train)))\n",
    "predictions = model_5.predict(X_test_5)\n",
    "print(\"Test Accuracy =\", format(metrics.accuracy_score(y_test_5, predictions)))"
   ]
  },
  {
   "cell_type": "code",
   "execution_count": 48,
   "id": "696a7d26-a93f-42df-a591-9bae9ec5393d",
   "metadata": {
    "tags": []
   },
   "outputs": [
    {
     "name": "stdout",
     "output_type": "stream",
     "text": [
      "[[79 20]\n",
      " [22 40]]\n",
      "              precision    recall  f1-score   support\n",
      "\n",
      "           0       0.78      0.80      0.79        99\n",
      "           1       0.67      0.65      0.66        62\n",
      "\n",
      "    accuracy                           0.74       161\n",
      "   macro avg       0.72      0.72      0.72       161\n",
      "weighted avg       0.74      0.74      0.74       161\n",
      "\n",
      "\n",
      "Predictions:\n"
     ]
    },
    {
     "data": {
      "text/plain": [
       "array([1], dtype=int64)"
      ]
     },
     "execution_count": 48,
     "metadata": {},
     "output_type": "execute_result"
    }
   ],
   "source": [
    "print(confusion_matrix(y_test_5, predictions))\n",
    "print(classification_report(y_test_5, predictions))\n",
    "print(\"\\nPredictions:\")\n",
    "model_5.predict([[0, 137, 40, 35, 168, 43.1, 2.228, 33]])"
   ]
  },
  {
   "cell_type": "markdown",
   "id": "26c6ddfb-9038-4bd4-b83b-611ada282d56",
   "metadata": {},
   "source": [
    "## TEST6:\n",
    "#### Test size = 0.33 , n_estimators = 40\n",
    "#### Accuracy = 0.75"
   ]
  },
  {
   "cell_type": "code",
   "execution_count": 49,
   "id": "e4d9254b-dffd-409c-b838-8e1edf1e4c2e",
   "metadata": {
    "tags": []
   },
   "outputs": [
    {
     "name": "stdout",
     "output_type": "stream",
     "text": [
      "Training Accuracy = 1.0\n",
      "Test Accuracy = 0.7142857142857143\n"
     ]
    }
   ],
   "source": [
    "X_train_6, X_test_6, y_train_6, y_test_6 = train_test_split(X, y, test_size=0.33, random_state=42)\n",
    "model_6 = RandomForestClassifier(n_estimators=40)\n",
    "model_6.fit(X_train_6, y_train_6)\n",
    "model_6_train = model_6.predict(X_train_6)\n",
    "print(\"Training Accuracy =\", format(metrics.accuracy_score(y_train_6, model_6_train)))\n",
    "predictions = model_6.predict(X_test_6)\n",
    "print(\"Test Accuracy =\", format(metrics.accuracy_score(y_test_6, predictions)))"
   ]
  },
  {
   "cell_type": "code",
   "execution_count": 50,
   "id": "d142b022-f66c-457f-a8c8-0e870e46d2a2",
   "metadata": {
    "tags": []
   },
   "outputs": [
    {
     "name": "stdout",
     "output_type": "stream",
     "text": [
      "[[76 23]\n",
      " [23 39]]\n",
      "              precision    recall  f1-score   support\n",
      "\n",
      "           0       0.77      0.77      0.77        99\n",
      "           1       0.63      0.63      0.63        62\n",
      "\n",
      "    accuracy                           0.71       161\n",
      "   macro avg       0.70      0.70      0.70       161\n",
      "weighted avg       0.71      0.71      0.71       161\n",
      "\n",
      "\n",
      "Predictions:\n"
     ]
    },
    {
     "data": {
      "text/plain": [
       "array([1], dtype=int64)"
      ]
     },
     "execution_count": 50,
     "metadata": {},
     "output_type": "execute_result"
    }
   ],
   "source": [
    "print(confusion_matrix(y_test_6, predictions))\n",
    "print(classification_report(y_test_6, predictions))\n",
    "print(\"\\nPredictions:\")\n",
    "model_6.predict([[0, 137, 40, 35, 168, 43.1, 2.228, 33]])"
   ]
  },
  {
   "cell_type": "markdown",
   "id": "5981b302-c1fd-47e3-ba63-cc172f60e7d1",
   "metadata": {},
   "source": [
    "## TEST7:\n",
    "#### Test size = 0.25 , n_estimators = 20 , max_depth = 40 , min_samples _split = 8\n",
    "#### Accuracy = 0.80"
   ]
  },
  {
   "cell_type": "code",
   "execution_count": 51,
   "id": "d947cd8a-d9e9-46dd-9da7-6de84c48ffb7",
   "metadata": {
    "tags": []
   },
   "outputs": [
    {
     "name": "stdout",
     "output_type": "stream",
     "text": [
      "Training Accuracy = 0.9478021978021978\n",
      "Test Accuracy = 0.8442622950819673\n"
     ]
    }
   ],
   "source": [
    "X_train_7, X_test_7, y_train_7, y_test_7 = train_test_split(X, y, test_size=0.25)\n",
    "model_7 = RandomForestClassifier(n_estimators=20, max_depth = 40, min_samples_split=8)\n",
    "model_7.fit(X_train_7, y_train_7)\n",
    "model_7_train = model_7.predict(X_train_7)\n",
    "print(\"Training Accuracy =\", format(metrics.accuracy_score(y_train_7, model_7_train)))\n",
    "predictions = model_7.predict(X_test_7)\n",
    "print(\"Test Accuracy =\", format(metrics.accuracy_score(y_test_7, predictions)))"
   ]
  },
  {
   "cell_type": "code",
   "execution_count": 52,
   "id": "ece6365b-b41e-44ae-87ce-ccf00487c2b7",
   "metadata": {
    "tags": []
   },
   "outputs": [
    {
     "name": "stdout",
     "output_type": "stream",
     "text": [
      "[[62  8]\n",
      " [11 41]]\n",
      "              precision    recall  f1-score   support\n",
      "\n",
      "           0       0.85      0.89      0.87        70\n",
      "           1       0.84      0.79      0.81        52\n",
      "\n",
      "    accuracy                           0.84       122\n",
      "   macro avg       0.84      0.84      0.84       122\n",
      "weighted avg       0.84      0.84      0.84       122\n",
      "\n",
      "\n",
      "Predictions:\n"
     ]
    },
    {
     "data": {
      "text/plain": [
       "array([0], dtype=int64)"
      ]
     },
     "execution_count": 52,
     "metadata": {},
     "output_type": "execute_result"
    }
   ],
   "source": [
    "print(confusion_matrix(y_test_7, predictions))\n",
    "print(classification_report(y_test_7, predictions))\n",
    "print(\"\\nPredictions:\")\n",
    "model_7.predict([[0, 137, 40, 35, 168, 43.1, 2.228, 33]])"
   ]
  },
  {
   "cell_type": "code",
   "execution_count": null,
   "id": "3200dc28-737c-4f63-b6db-5a84a32fc99d",
   "metadata": {},
   "outputs": [],
   "source": []
  },
  {
   "cell_type": "markdown",
   "id": "3384a89e-6cb0-47c2-80a5-242d4a9c4b53",
   "metadata": {},
   "source": [
    "# NOW USING MPA:"
   ]
  },
  {
   "cell_type": "code",
   "execution_count": 53,
   "id": "20c6db90-8b00-4f82-ae5f-3e9a9b8a664e",
   "metadata": {
    "jupyter": {
     "source_hidden": true
    },
    "tags": []
   },
   "outputs": [],
   "source": [
    "import pandas as pd\n",
    "import numpy as np\n",
    "from sklearn.ensemble import RandomForestClassifier\n",
    "# from sklearn.preprocessing import MinMaxScaler\n",
    "# from sklearn.metrics import accuracy_score\n",
    "\n",
    "# # Load your pandas dataframe\n",
    "# df = pd.read_csv('your_data.csv')  # Replace with your CSV file\n",
    "\n",
    "# # Define the feature columns (a, b, c, d, e, f, g, h)\n",
    "# feature_cols = ['a', 'b', 'c', 'd', 'e', 'f', 'g', 'h']\n",
    "\n",
    "# # Define the target column (assuming it's the last column)\n",
    "# target_col = 'h'  # Adjust if necessary\n",
    "\n",
    "# # Split the dataframe into features (X) and target (y)\n",
    "# X = df[feature_cols]\n",
    "# y = df[target_col]\n",
    "\n",
    "# # Standardize the features using Min-Max Scaler\n",
    "# scaler = MinMaxScaler()\n",
    "# X_scaled = scaler.fit_transform(X)\n",
    "\n",
    "# # Define the Marine Predator Algorithm parameters\n",
    "# SearchAgents_no = 20  # Number of search agents\n",
    "# dim = len(feature_cols)  # Number of features\n",
    "# ub = [1.0] * dim  # Upper bounds for each feature\n",
    "# lb = [0.0] * dim  # Lower bounds for each feature\n",
    "\n",
    "# # Initialize search agents randomly within the bounds\n",
    "# search_agents = np.random.uniform(low=lb, high=ub, size=(SearchAgents_no, dim))\n",
    "\n",
    "# # Define the fitness function using RandomForestClassifier\n",
    "# def fitness_function(search_agent):\n",
    "#     # Select features based on the search agent\n",
    "#     selected_features = X_scaled[:, search_agent.astype(bool)]\n",
    "    \n",
    "#     if selected_features.shape[1] == 0:  # Avoid empty feature selection\n",
    "#         return 0\n",
    "    \n",
    "#     # Train a RandomForestClassifier\n",
    "#     model = RandomForestClassifier(n_estimators=100, random_state=42)\n",
    "#     model.fit(selected_features, y)\n",
    "    \n",
    "#     # Evaluate the model\n",
    "#     y_pred = model.predict(selected_features)\n",
    "#     accuracy = accuracy_score(y, y_pred)\n",
    "    \n",
    "#     return accuracy\n",
    "\n",
    "# # Implement the Marine Predator Algorithm\n",
    "# best_fitness = 0\n",
    "# best_search_agent = None\n",
    "\n",
    "# for iteration in range(100):  # Run for 100 iterations\n",
    "#     for i in range(SearchAgents_no):\n",
    "#         # Update the search agent using the MPA rules\n",
    "#         # (You will need to implement the specific MPA rules here)\n",
    "        \n",
    "#         # Evaluate the fitness of the updated search agent\n",
    "#         fitness = fitness_function(search_agents[i])\n",
    "        \n",
    "#         # Update the best search agent and its fitness\n",
    "#         if fitness > best_fitness:\n",
    "#             best_fitness = fitness\n",
    "#             best_search_agent = search_agents[i]\n",
    "\n",
    "# # Select the best features based on the best search agent\n",
    "# best_features = X_scaled[:, best_search_agent.astype(bool)]\n",
    "\n",
    "# # Print the selected features\n",
    "# print(\"Best Fitness:\", best_fitness)\n",
    "# print(\"Selected Features Indices:\", np.where(best_search_agent > 0.5)[0])"
   ]
  },
  {
   "cell_type": "code",
   "execution_count": 54,
   "id": "c99faa11-2e59-4738-a669-f043b354d937",
   "metadata": {
    "tags": []
   },
   "outputs": [
    {
     "data": {
      "text/html": [
       "<div>\n",
       "<style scoped>\n",
       "    .dataframe tbody tr th:only-of-type {\n",
       "        vertical-align: middle;\n",
       "    }\n",
       "\n",
       "    .dataframe tbody tr th {\n",
       "        vertical-align: top;\n",
       "    }\n",
       "\n",
       "    .dataframe thead th {\n",
       "        text-align: right;\n",
       "    }\n",
       "</style>\n",
       "<table border=\"1\" class=\"dataframe\">\n",
       "  <thead>\n",
       "    <tr style=\"text-align: right;\">\n",
       "      <th></th>\n",
       "      <th>Pregnancies</th>\n",
       "      <th>Glucose</th>\n",
       "      <th>BloodPressure</th>\n",
       "      <th>SkinThickness</th>\n",
       "      <th>Insulin</th>\n",
       "      <th>BMI</th>\n",
       "      <th>DiabetesPedigreeFunction</th>\n",
       "      <th>Age</th>\n",
       "      <th>Outcome</th>\n",
       "    </tr>\n",
       "  </thead>\n",
       "  <tbody>\n",
       "    <tr>\n",
       "      <th>0</th>\n",
       "      <td>6</td>\n",
       "      <td>148</td>\n",
       "      <td>72</td>\n",
       "      <td>35</td>\n",
       "      <td>300</td>\n",
       "      <td>33.6</td>\n",
       "      <td>0.627</td>\n",
       "      <td>50</td>\n",
       "      <td>1</td>\n",
       "    </tr>\n",
       "    <tr>\n",
       "      <th>1</th>\n",
       "      <td>1</td>\n",
       "      <td>85</td>\n",
       "      <td>66</td>\n",
       "      <td>29</td>\n",
       "      <td>190</td>\n",
       "      <td>26.6</td>\n",
       "      <td>0.351</td>\n",
       "      <td>31</td>\n",
       "      <td>0</td>\n",
       "    </tr>\n",
       "    <tr>\n",
       "      <th>2</th>\n",
       "      <td>5</td>\n",
       "      <td>183</td>\n",
       "      <td>64</td>\n",
       "      <td>30</td>\n",
       "      <td>350</td>\n",
       "      <td>23.3</td>\n",
       "      <td>0.672</td>\n",
       "      <td>32</td>\n",
       "      <td>1</td>\n",
       "    </tr>\n",
       "    <tr>\n",
       "      <th>3</th>\n",
       "      <td>1</td>\n",
       "      <td>89</td>\n",
       "      <td>66</td>\n",
       "      <td>23</td>\n",
       "      <td>94</td>\n",
       "      <td>28.1</td>\n",
       "      <td>0.167</td>\n",
       "      <td>21</td>\n",
       "      <td>0</td>\n",
       "    </tr>\n",
       "    <tr>\n",
       "      <th>4</th>\n",
       "      <td>0</td>\n",
       "      <td>137</td>\n",
       "      <td>40</td>\n",
       "      <td>35</td>\n",
       "      <td>168</td>\n",
       "      <td>43.1</td>\n",
       "      <td>2.288</td>\n",
       "      <td>33</td>\n",
       "      <td>1</td>\n",
       "    </tr>\n",
       "  </tbody>\n",
       "</table>\n",
       "</div>"
      ],
      "text/plain": [
       "   Pregnancies  Glucose  BloodPressure  SkinThickness  Insulin   BMI  \\\n",
       "0            6      148             72             35      300  33.6   \n",
       "1            1       85             66             29      190  26.6   \n",
       "2            5      183             64             30      350  23.3   \n",
       "3            1       89             66             23       94  28.1   \n",
       "4            0      137             40             35      168  43.1   \n",
       "\n",
       "   DiabetesPedigreeFunction  Age  Outcome  \n",
       "0                     0.627   50        1  \n",
       "1                     0.351   31        0  \n",
       "2                     0.672   32        1  \n",
       "3                     0.167   21        0  \n",
       "4                     2.288   33        1  "
      ]
     },
     "execution_count": 54,
     "metadata": {},
     "output_type": "execute_result"
    }
   ],
   "source": [
    "df2.head()"
   ]
  },
  {
   "cell_type": "code",
   "execution_count": 55,
   "id": "c64f2251-6aec-42b2-8424-6bfd52dd3003",
   "metadata": {
    "tags": []
   },
   "outputs": [],
   "source": [
    "# Define the MPA algorithm\n",
    "from sklearn.metrics import accuracy_score\n",
    "\n",
    "def update_agents(agents, fitness, best_agent, alpha=0.5, beta=0.1):\n",
    "    num_agents = agents.shape[0]\n",
    "    dimension = agents.shape[1]\n",
    "\n",
    "    for i in range(num_agents):\n",
    "        # Calculate the distance to the best agent\n",
    "        distance = best_agent - agents[i]\n",
    "\n",
    "        # Update position based on MPA rules\n",
    "        if np.random.rand() < alpha:  # Attraction to the best agent\n",
    "            agents[i] += alpha * distance * np.random.rand(dimension)\n",
    "        else:  # Random exploration\n",
    "            agents[i] += beta * (np.random.rand(dimension) - 0.5)\n",
    "\n",
    "        # Ensure the new position is within bounds\n",
    "        agents[i] = np.clip(agents[i], [10, 1, 1, 1, 1], [200, 10, 20, 10, 8])  # Example bounds\n",
    "\n",
    "    return agents\n",
    "\n",
    "# Hyperparameter optimization using MPA\n",
    "def hyperparameter_optimization(X, y, max_iterations=50, num_agents=10):\n",
    "    # Initialize agents randomly within specified bounds\n",
    "    # Example: [n_estimators, max_depth, min_samples_split, min_samples_leaf, max_features]\n",
    "    agents = np.random.rand(num_agents, 5)\n",
    "    agents[:, 0] = agents[:, 0] * 190 + 10  # n_estimators (10 to 200)\n",
    "    agents[:, 1] = agents[:, 1] * 9 + 1     # max_depth (1 to 10)\n",
    "    agents[:, 2] = agents[:, 2] * 20 + 1    # min_samples_split (1 to 20)\n",
    "    agents[:, 3] = agents[:, 3] * 10 + 1    # min_samples_leaf (1 to 10)\n",
    "    agents[:, 4] = agents[:, 4] * 8 + 1      # max_features (1 to 8)\n",
    "\n",
    "    best_fitness = float('-inf')\n",
    "    best_agent = None\n",
    "\n",
    "    for iteration in range(max_iterations):\n",
    "        for i in range(num_agents):\n",
    "            # Extract hyperparameters\n",
    "            n_estimators = int(agents[i, 0])\n",
    "            max_depth = int(agents[i, 1])\n",
    "            min_samples_split = int(agents[i, 2])\n",
    "            min_samples_leaf = int(agents[i, 3])\n",
    "            max_features = int(agents[i, 4])\n",
    "\n",
    "            # Create and evaluate the RandomForestClassifier\n",
    "            clf = RandomForestClassifier(n_estimators=n_estimators,\n",
    "                                         max_depth=max_depth,\n",
    "                                         min_samples_split=min_samples_split,\n",
    "                                         min_samples_leaf=min_samples_leaf,\n",
    "                                         max_features=max_features,\n",
    "                                         random_state=42)\n",
    "\n",
    "            # Fit the model and evaluate fitness (accuracy)\n",
    "            clf.fit(X_train, y_train)\n",
    "            y_pred = clf.predict(X_test)\n",
    "            fitness = accuracy_score(y_test, y_pred)\n",
    "\n",
    "            # Update the best agent if current fitness is better\n",
    "            if fitness > best_fitness:\n",
    "                best_fitness = fitness\n",
    "                best_agent = agents[i]\n",
    "\n",
    "        # Update agents based on MPA rules\n",
    "        agents = update_agents(agents, fitness, best_agent)\n",
    "\n",
    "    return best_agent, best_fitness"
   ]
  },
  {
   "cell_type": "code",
   "execution_count": 56,
   "id": "7744be9c-ebed-469b-915f-6fda6f383a3b",
   "metadata": {
    "tags": []
   },
   "outputs": [
    {
     "name": "stdout",
     "output_type": "stream",
     "text": [
      "Best Hyperparameters: [164.17690506   4.93392002  17.08570428   4.31820233   6.16629443]\n",
      "Best Accuracy: 0.7551020408163265\n"
     ]
    }
   ],
   "source": [
    "X_train, X_test, y_train, y_test = train_test_split(X, y, test_size=0.2, random_state=42)\n",
    "\n",
    "best_hyperparams, best_accuracy = hyperparameter_optimization(X_train, y_train)\n",
    "print(\"Best Hyperparameters:\", best_hyperparams)\n",
    "print(\"Best Accuracy:\", best_accuracy)"
   ]
  },
  {
   "cell_type": "code",
   "execution_count": 57,
   "id": "33b15743-854f-472b-877b-158f7fa42bde",
   "metadata": {
    "tags": []
   },
   "outputs": [
    {
     "name": "stdout",
     "output_type": "stream",
     "text": [
      "164 4 17 4 6\n"
     ]
    }
   ],
   "source": [
    "n_estimators,max_depth,min_samples_split,min_samples_leaf,max_features = best_hyperparams\n",
    "n_estimators,max_depth,min_samples_split,min_samples_leaf,max_features = int(n_estimators),int(max_depth),int(min_samples_split),int(min_samples_leaf),int(max_features)\n",
    "print(n_estimators,max_depth,min_samples_split,min_samples_leaf,max_features)"
   ]
  },
  {
   "cell_type": "code",
   "execution_count": 58,
   "id": "4df7c42c-9d4b-4a90-a1fe-23c0a1882ba3",
   "metadata": {
    "tags": []
   },
   "outputs": [
    {
     "name": "stdout",
     "output_type": "stream",
     "text": [
      "Training Accuracy = 0.8685567010309279\n",
      "Test Accuracy = 0.7346938775510204\n",
      "[[49 15]\n",
      " [11 23]]\n",
      "              precision    recall  f1-score   support\n",
      "\n",
      "           0       0.82      0.77      0.79        64\n",
      "           1       0.61      0.68      0.64        34\n",
      "\n",
      "    accuracy                           0.73        98\n",
      "   macro avg       0.71      0.72      0.71        98\n",
      "weighted avg       0.74      0.73      0.74        98\n",
      "\n"
     ]
    }
   ],
   "source": [
    "model_1 = RandomForestClassifier(n_estimators=n_estimators,\n",
    "                                         max_depth=max_depth,\n",
    "                                         min_samples_split=min_samples_split,\n",
    "                                         min_samples_leaf=min_samples_leaf,\n",
    "                                         max_features=max_features,\n",
    "                                         random_state=42)\n",
    "model_1.fit(X_train, y_train)\n",
    "model_1_train = model_1.predict(X_train)\n",
    "print(\"Training Accuracy =\", format(metrics.accuracy_score(y_train, model_1_train)))\n",
    "pred_1 = model_1.predict(X_test)\n",
    "print(\"Test Accuracy =\", format(metrics.accuracy_score(y_test, pred_1)))\n",
    "print(confusion_matrix(y_test, pred_1))\n",
    "print(classification_report(y_test, pred_1))"
   ]
  },
  {
   "cell_type": "code",
   "execution_count": 59,
   "id": "10ded30a-81c7-4c31-8f8c-a9fb1f8ae104",
   "metadata": {
    "tags": []
   },
   "outputs": [
    {
     "data": {
      "text/html": [
       "<style>#sk-container-id-2 {color: black;}#sk-container-id-2 pre{padding: 0;}#sk-container-id-2 div.sk-toggleable {background-color: white;}#sk-container-id-2 label.sk-toggleable__label {cursor: pointer;display: block;width: 100%;margin-bottom: 0;padding: 0.3em;box-sizing: border-box;text-align: center;}#sk-container-id-2 label.sk-toggleable__label-arrow:before {content: \"▸\";float: left;margin-right: 0.25em;color: #696969;}#sk-container-id-2 label.sk-toggleable__label-arrow:hover:before {color: black;}#sk-container-id-2 div.sk-estimator:hover label.sk-toggleable__label-arrow:before {color: black;}#sk-container-id-2 div.sk-toggleable__content {max-height: 0;max-width: 0;overflow: hidden;text-align: left;background-color: #f0f8ff;}#sk-container-id-2 div.sk-toggleable__content pre {margin: 0.2em;color: black;border-radius: 0.25em;background-color: #f0f8ff;}#sk-container-id-2 input.sk-toggleable__control:checked~div.sk-toggleable__content {max-height: 200px;max-width: 100%;overflow: auto;}#sk-container-id-2 input.sk-toggleable__control:checked~label.sk-toggleable__label-arrow:before {content: \"▾\";}#sk-container-id-2 div.sk-estimator input.sk-toggleable__control:checked~label.sk-toggleable__label {background-color: #d4ebff;}#sk-container-id-2 div.sk-label input.sk-toggleable__control:checked~label.sk-toggleable__label {background-color: #d4ebff;}#sk-container-id-2 input.sk-hidden--visually {border: 0;clip: rect(1px 1px 1px 1px);clip: rect(1px, 1px, 1px, 1px);height: 1px;margin: -1px;overflow: hidden;padding: 0;position: absolute;width: 1px;}#sk-container-id-2 div.sk-estimator {font-family: monospace;background-color: #f0f8ff;border: 1px dotted black;border-radius: 0.25em;box-sizing: border-box;margin-bottom: 0.5em;}#sk-container-id-2 div.sk-estimator:hover {background-color: #d4ebff;}#sk-container-id-2 div.sk-parallel-item::after {content: \"\";width: 100%;border-bottom: 1px solid gray;flex-grow: 1;}#sk-container-id-2 div.sk-label:hover label.sk-toggleable__label {background-color: #d4ebff;}#sk-container-id-2 div.sk-serial::before {content: \"\";position: absolute;border-left: 1px solid gray;box-sizing: border-box;top: 0;bottom: 0;left: 50%;z-index: 0;}#sk-container-id-2 div.sk-serial {display: flex;flex-direction: column;align-items: center;background-color: white;padding-right: 0.2em;padding-left: 0.2em;position: relative;}#sk-container-id-2 div.sk-item {position: relative;z-index: 1;}#sk-container-id-2 div.sk-parallel {display: flex;align-items: stretch;justify-content: center;background-color: white;position: relative;}#sk-container-id-2 div.sk-item::before, #sk-container-id-2 div.sk-parallel-item::before {content: \"\";position: absolute;border-left: 1px solid gray;box-sizing: border-box;top: 0;bottom: 0;left: 50%;z-index: -1;}#sk-container-id-2 div.sk-parallel-item {display: flex;flex-direction: column;z-index: 1;position: relative;background-color: white;}#sk-container-id-2 div.sk-parallel-item:first-child::after {align-self: flex-end;width: 50%;}#sk-container-id-2 div.sk-parallel-item:last-child::after {align-self: flex-start;width: 50%;}#sk-container-id-2 div.sk-parallel-item:only-child::after {width: 0;}#sk-container-id-2 div.sk-dashed-wrapped {border: 1px dashed gray;margin: 0 0.4em 0.5em 0.4em;box-sizing: border-box;padding-bottom: 0.4em;background-color: white;}#sk-container-id-2 div.sk-label label {font-family: monospace;font-weight: bold;display: inline-block;line-height: 1.2em;}#sk-container-id-2 div.sk-label-container {text-align: center;}#sk-container-id-2 div.sk-container {/* jupyter's `normalize.less` sets `[hidden] { display: none; }` but bootstrap.min.css set `[hidden] { display: none !important; }` so we also need the `!important` here to be able to override the default hidden behavior on the sphinx rendered scikit-learn.org. See: https://github.com/scikit-learn/scikit-learn/issues/21755 */display: inline-block !important;position: relative;}#sk-container-id-2 div.sk-text-repr-fallback {display: none;}</style><div id=\"sk-container-id-2\" class=\"sk-top-container\"><div class=\"sk-text-repr-fallback\"><pre>RandomForestClassifier(n_estimators=164, random_state=42)</pre><b>In a Jupyter environment, please rerun this cell to show the HTML representation or trust the notebook. <br />On GitHub, the HTML representation is unable to render, please try loading this page with nbviewer.org.</b></div><div class=\"sk-container\" hidden><div class=\"sk-item\"><div class=\"sk-estimator sk-toggleable\"><input class=\"sk-toggleable__control sk-hidden--visually\" id=\"sk-estimator-id-2\" type=\"checkbox\" checked><label for=\"sk-estimator-id-2\" class=\"sk-toggleable__label sk-toggleable__label-arrow\">RandomForestClassifier</label><div class=\"sk-toggleable__content\"><pre>RandomForestClassifier(n_estimators=164, random_state=42)</pre></div></div></div></div></div>"
      ],
      "text/plain": [
       "RandomForestClassifier(n_estimators=164, random_state=42)"
      ]
     },
     "execution_count": 59,
     "metadata": {},
     "output_type": "execute_result"
    }
   ],
   "source": [
    "model_2 = RandomForestClassifier(n_estimators=n_estimators,random_state=42)\n",
    "model_2.fit(X_train, y_train)"
   ]
  },
  {
   "cell_type": "code",
   "execution_count": 60,
   "id": "83d9ce82-014b-43e3-aae7-e59a6ef3fcc3",
   "metadata": {
    "tags": []
   },
   "outputs": [
    {
     "name": "stdout",
     "output_type": "stream",
     "text": [
      "Training Accuracy = 1.0\n",
      "Test Accuracy = 0.7551020408163265\n",
      "[[52 12]\n",
      " [12 22]]\n",
      "              precision    recall  f1-score   support\n",
      "\n",
      "           0       0.81      0.81      0.81        64\n",
      "           1       0.65      0.65      0.65        34\n",
      "\n",
      "    accuracy                           0.76        98\n",
      "   macro avg       0.73      0.73      0.73        98\n",
      "weighted avg       0.76      0.76      0.76        98\n",
      "\n"
     ]
    }
   ],
   "source": [
    "model_2_train = model_2.predict(X_train)\n",
    "print(\"Training Accuracy =\", format(metrics.accuracy_score(y_train, model_2_train)))\n",
    "pred_2 = model_2.predict(X_test)\n",
    "print(\"Test Accuracy =\", format(metrics.accuracy_score(y_test, pred_2)))\n",
    "print(confusion_matrix(y_test, pred_2))\n",
    "print(classification_report(y_test, pred_2))"
   ]
  },
  {
   "cell_type": "code",
   "execution_count": null,
   "id": "155530fa-34b0-450f-b219-5bd5070a3727",
   "metadata": {},
   "outputs": [],
   "source": []
  }
 ],
 "metadata": {
  "kernelspec": {
   "display_name": "Python 3 (ipykernel)",
   "language": "python",
   "name": "python3"
  },
  "language_info": {
   "codemirror_mode": {
    "name": "ipython",
    "version": 3
   },
   "file_extension": ".py",
   "mimetype": "text/x-python",
   "name": "python",
   "nbconvert_exporter": "python",
   "pygments_lexer": "ipython3",
   "version": "3.11.5"
  }
 },
 "nbformat": 4,
 "nbformat_minor": 5
}
