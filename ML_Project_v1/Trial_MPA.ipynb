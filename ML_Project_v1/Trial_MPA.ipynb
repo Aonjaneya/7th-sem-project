{
 "cells": [
  {
   "cell_type": "code",
   "execution_count": 5,
   "id": "4d1962bc-8808-436c-969f-a1d6bd24f1dd",
   "metadata": {
    "tags": []
   },
   "outputs": [],
   "source": [
    "import numpy as np\n",
    "import pandas as pd\n",
    "import matplotlib.pyplot as plt\n",
    "from pandas.plotting import scatter_matrix\n",
    "from sklearn.preprocessing import StandardScaler\n",
    "from sklearn.model_selection import train_test_split\n",
    "from sklearn.ensemble import RandomForestClassifier\n",
    "from sklearn.metrics import accuracy_score\n",
    "from sklearn.metrics import f1_score\n",
    "from sklearn.metrics import confusion_matrix\n",
    "from sklearn import metrics\n",
    "from sklearn.metrics import classification_report\n",
    "\n",
    "df1 = pd.read_csv(\"diabetes.csv\")\n",
    "df1 = df1[(df1['Glucose'] != 0) & (df1['Insulin'] != 0)]\n",
    "df1 = df1[(df1['BloodPressure'] != 0) & (df1['SkinThickness'] != 0) & (df1['BMI'] != 0) & (df1['DiabetesPedigreeFunction'] != 0)]\n",
    "df1 = df1.reset_index(drop=True)\n",
    "df2 = df1\n",
    "X = df2.drop('Outcome', axis = 1)\n",
    "y = df2.Outcome"
   ]
  },
  {
   "cell_type": "code",
   "execution_count": 9,
   "id": "feb867ed-eb9b-445f-b9c5-95e0674c7327",
   "metadata": {
    "tags": []
   },
   "outputs": [],
   "source": [
    "def update_agents(agents, fitness, best_agent, alpha=0.5, beta=0.05, bounds=None):\n",
    "    num_agents, dimension = agents.shape\n",
    "\n",
    "    # Ensure bounds are provided\n",
    "    if bounds is None:\n",
    "        bounds = (np.array([10, 4, 2, 2]), np.array([200, 20, 10, 10]))\n",
    "\n",
    "    lower_bound, upper_bound = bounds\n",
    "\n",
    "    for i in range(num_agents):\n",
    "        distance = best_agent - agents[i]\n",
    "\n",
    "        if np.random.rand() < alpha:\n",
    "            agents[i] += alpha * distance * np.random.rand(dimension)\n",
    "        else:\n",
    "            agents[i] += beta * (np.random.rand(dimension) - 0.5)\n",
    "\n",
    "        agents[i] = np.clip(agents[i], lower_bound, upper_bound)\n",
    "\n",
    "    return agents\n",
    "\n",
    "# Hyperparameter optimization using MPA\n",
    "def hyperparameter_optimization(X, y, max_iterations=25, num_agents=15):\n",
    "    # Initialize agents randomly within specified bounds\n",
    "    X_train, X_test, y_train, y_test = train_test_split(X, y, test_size=0.2, random_state=42)\n",
    "    agents = np.random.rand(num_agents, 4)\n",
    "    agents[:, 0] = agents[:, 0] * 140 + 10  # n_estimators (10 to 90)\n",
    "    agents[:, 1] = agents[:, 1] * 12 + 8     # max_depth (4 to 20)\n",
    "    agents[:, 2] = agents[:, 2] * 8 + 2    # min_samples_split (2 to 10)\n",
    "    agents[:, 3] = agents[:, 3] * 8 + 2    # min_samples_leaf (2 to 10)\n",
    "\n",
    "    best_fitness = float('-inf')\n",
    "    best_agent = None\n",
    "\n",
    "    for iteration in range(max_iterations):\n",
    "        for i in range(num_agents):\n",
    "            # Extract hyperparameters\n",
    "            n_estimators = int(agents[i, 0])\n",
    "            max_depth = int(agents[i, 1])\n",
    "            min_samples_split = int(agents[i, 2])\n",
    "            min_samples_leaf = int(agents[i, 3])\n",
    "            if min_samples_split <= 2:\n",
    "                min_samples_split = 2\n",
    "\n",
    "            # Create and evaluate the RandomForestClassifier\n",
    "            clf = RandomForestClassifier(n_estimators=n_estimators,\n",
    "                                         max_depth=max_depth,\n",
    "                                         min_samples_split=min_samples_split,\n",
    "                                         min_samples_leaf=min_samples_leaf,\n",
    "                                         random_state=42)\n",
    "\n",
    "            # Fit the model and evaluate fitness (accuracy)\n",
    "            clf.fit(X_train, y_train)\n",
    "            y_pred = clf.predict(X_test)\n",
    "            fitness = accuracy_score(y_test, y_pred)\n",
    "\n",
    "            # Update the best agent if current fitness is better\n",
    "            if fitness > best_fitness:\n",
    "                best_fitness = fitness\n",
    "                best_agent = agents[i]\n",
    "\n",
    "        # Update agents based on MPA rules\n",
    "        agents = update_agents(agents, fitness, best_agent)\n",
    "\n",
    "    return best_agent, best_fitness\n",
    "\n"
   ]
  },
  {
   "cell_type": "code",
   "execution_count": 16,
   "id": "325d0bba-e5fe-413f-83ca-cb1fc48332c0",
   "metadata": {
    "tags": []
   },
   "outputs": [],
   "source": [
    "def main(X, y):\n",
    "    X_train, X_test, y_train, y_test = train_test_split(X, y, test_size=0.2, random_state=42)\n",
    "    best_position, best_value = hyperparameter_optimization(X, y)\n",
    "    n_estimators,max_depth,min_samples_split,min_samples_leaf = best_position\n",
    "    n_estimators,max_depth,min_samples_split,min_samples_leaf = int(n_estimators),int(max_depth),int(min_samples_split),int(min_samples_leaf)\n",
    "    best_position = n_estimators,max_depth,min_samples_split,min_samples_leaf\n",
    "    model_MPA = RandomForestClassifier(\n",
    "        n_estimators=n_estimators,\n",
    "        max_depth=max_depth,\n",
    "        min_samples_split=min_samples_split,\n",
    "        min_samples_leaf=min_samples_leaf,\n",
    "        random_state=42\n",
    "    )\n",
    "    model_MPA.fit(X_train, y_train)\n",
    "    predictions = model_MPA.predict(X_test)\n",
    "    \n",
    "    accuracy = accuracy_score(y_test, predictions)\n",
    "    \n",
    "    tn, fp, fn, tp = confusion_matrix(y_test, predictions).ravel()\n",
    "\n",
    "    # Calculate Sensitivity (True Positive Rate)\n",
    "    sensitivity = tp / (tp + fn) if (tp + fn) > 0 else 0\n",
    "\n",
    "    # Calculate Specificity (True Negative Rate)\n",
    "    specificity = tn / (tn + fp) if (tn + fp) > 0 else 0\n",
    "\n",
    "    # Calculate Prevalence\n",
    "    prevalence = (tp + fn) / (tp + fn + tn + fp) if (tp + fn + tn + fp) > 0 else 0\n",
    "    accuracy = f\"{accuracy:.3f}\"\n",
    "    specificity = f\"{specificity:.3f}\"\n",
    "    sensitivity = f\"{sensitivity:.3f}\"\n",
    "    prevalence = f\"{prevalence:.3f}\"\n",
    "    f1 = f1_score(y_test, predictions)\n",
    "    f1 = f\"{f1:.3f}\"\n",
    "    print(\"MPA: \")\n",
    "    print(f\"Best Position (n_estimators, max_depth, min_samples_split, min_samples_leaf): {best_position}\")\n",
    "    print(f\"Best Value (Accuracy): {best_value}\")\n",
    "    return model_MPA, accuracy, specificity, sensitivity, prevalence, f1"
   ]
  },
  {
   "cell_type": "code",
   "execution_count": 17,
   "id": "dbfcf4ac-b052-4d41-9330-9787225fd6c1",
   "metadata": {
    "tags": []
   },
   "outputs": [
    {
     "name": "stdout",
     "output_type": "stream",
     "text": [
      "F1 Score: 0.65\n",
      "MPA: \n",
      "Best Position (n_estimators, max_depth, min_samples_split, min_samples_leaf): (60, 18, 4, 3)\n",
      "Best Value (Accuracy): 0.7653061224489796\n"
     ]
    }
   ],
   "source": [
    "if __name__ == \"__main__\":\n",
    "    main(X, y)"
   ]
  },
  {
   "cell_type": "code",
   "execution_count": 1,
   "id": "01716aef-64e6-4886-82dd-eb4bff36d59a",
   "metadata": {},
   "outputs": [
    {
     "ename": "NameError",
     "evalue": "name 'y_train' is not defined",
     "output_type": "error",
     "traceback": [
      "\u001b[1;31m---------------------------------------------------------------------------\u001b[0m",
      "\u001b[1;31mNameError\u001b[0m                                 Traceback (most recent call last)",
      "Cell \u001b[1;32mIn[1], line 1\u001b[0m\n\u001b[1;32m----> 1\u001b[0m \u001b[38;5;28mprint\u001b[39m(\u001b[43my_train\u001b[49m)\n",
      "\u001b[1;31mNameError\u001b[0m: name 'y_train' is not defined"
     ]
    }
   ],
   "source": [
    "print(y_train)"
   ]
  },
  {
   "cell_type": "code",
   "execution_count": null,
   "id": "736b40e8-bd77-44a5-83f6-8e73eef7b031",
   "metadata": {},
   "outputs": [],
   "source": []
  }
 ],
 "metadata": {
  "kernelspec": {
   "display_name": "Python 3 (ipykernel)",
   "language": "python",
   "name": "python3"
  },
  "language_info": {
   "codemirror_mode": {
    "name": "ipython",
    "version": 3
   },
   "file_extension": ".py",
   "mimetype": "text/x-python",
   "name": "python",
   "nbconvert_exporter": "python",
   "pygments_lexer": "ipython3",
   "version": "3.11.5"
  }
 },
 "nbformat": 4,
 "nbformat_minor": 5
}
