{
 "cells": [
  {
   "cell_type": "code",
   "execution_count": 1,
   "id": "44d5d3bc-7750-4bbc-83a2-f04b2e5a8e96",
   "metadata": {},
   "outputs": [],
   "source": [
    "import numpy as np\n",
    "import pandas as pd\n",
    "import matplotlib.pyplot as plt\n",
    "%matplotlib inline\n",
    "from pandas.plotting import scatter_matrix\n",
    "from sklearn.preprocessing import StandardScaler\n",
    "from sklearn.model_selection import train_test_split\n",
    "from sklearn.ensemble import RandomForestClassifier\n",
    "\n",
    "from sklearn.metrics import confusion_matrix\n",
    "from sklearn import metrics\n",
    "from sklearn.metrics import classification_report\n",
    "from sklearn.metrics import accuracy_score"
   ]
  },
  {
   "cell_type": "code",
   "execution_count": 2,
   "id": "54a11362-38b3-429c-810e-b9ce05909217",
   "metadata": {
    "tags": []
   },
   "outputs": [
    {
     "data": {
      "text/html": [
       "<div>\n",
       "<style scoped>\n",
       "    .dataframe tbody tr th:only-of-type {\n",
       "        vertical-align: middle;\n",
       "    }\n",
       "\n",
       "    .dataframe tbody tr th {\n",
       "        vertical-align: top;\n",
       "    }\n",
       "\n",
       "    .dataframe thead th {\n",
       "        text-align: right;\n",
       "    }\n",
       "</style>\n",
       "<table border=\"1\" class=\"dataframe\">\n",
       "  <thead>\n",
       "    <tr style=\"text-align: right;\">\n",
       "      <th></th>\n",
       "      <th>Pregnancies</th>\n",
       "      <th>Glucose</th>\n",
       "      <th>BloodPressure</th>\n",
       "      <th>SkinThickness</th>\n",
       "      <th>Insulin</th>\n",
       "      <th>BMI</th>\n",
       "      <th>DiabetesPedigreeFunction</th>\n",
       "      <th>Age</th>\n",
       "      <th>Outcome</th>\n",
       "    </tr>\n",
       "  </thead>\n",
       "  <tbody>\n",
       "    <tr>\n",
       "      <th>0</th>\n",
       "      <td>6</td>\n",
       "      <td>148</td>\n",
       "      <td>72</td>\n",
       "      <td>35</td>\n",
       "      <td>0</td>\n",
       "      <td>33.6</td>\n",
       "      <td>0.627</td>\n",
       "      <td>50</td>\n",
       "      <td>1</td>\n",
       "    </tr>\n",
       "    <tr>\n",
       "      <th>1</th>\n",
       "      <td>1</td>\n",
       "      <td>85</td>\n",
       "      <td>66</td>\n",
       "      <td>29</td>\n",
       "      <td>0</td>\n",
       "      <td>26.6</td>\n",
       "      <td>0.351</td>\n",
       "      <td>31</td>\n",
       "      <td>0</td>\n",
       "    </tr>\n",
       "    <tr>\n",
       "      <th>2</th>\n",
       "      <td>8</td>\n",
       "      <td>183</td>\n",
       "      <td>64</td>\n",
       "      <td>0</td>\n",
       "      <td>0</td>\n",
       "      <td>23.3</td>\n",
       "      <td>0.672</td>\n",
       "      <td>32</td>\n",
       "      <td>1</td>\n",
       "    </tr>\n",
       "    <tr>\n",
       "      <th>3</th>\n",
       "      <td>1</td>\n",
       "      <td>89</td>\n",
       "      <td>66</td>\n",
       "      <td>23</td>\n",
       "      <td>94</td>\n",
       "      <td>28.1</td>\n",
       "      <td>0.167</td>\n",
       "      <td>21</td>\n",
       "      <td>0</td>\n",
       "    </tr>\n",
       "    <tr>\n",
       "      <th>4</th>\n",
       "      <td>0</td>\n",
       "      <td>137</td>\n",
       "      <td>40</td>\n",
       "      <td>35</td>\n",
       "      <td>168</td>\n",
       "      <td>43.1</td>\n",
       "      <td>2.288</td>\n",
       "      <td>33</td>\n",
       "      <td>1</td>\n",
       "    </tr>\n",
       "  </tbody>\n",
       "</table>\n",
       "</div>"
      ],
      "text/plain": [
       "   Pregnancies  Glucose  BloodPressure  SkinThickness  Insulin   BMI  \\\n",
       "0            6      148             72             35        0  33.6   \n",
       "1            1       85             66             29        0  26.6   \n",
       "2            8      183             64              0        0  23.3   \n",
       "3            1       89             66             23       94  28.1   \n",
       "4            0      137             40             35      168  43.1   \n",
       "\n",
       "   DiabetesPedigreeFunction  Age  Outcome  \n",
       "0                     0.627   50        1  \n",
       "1                     0.351   31        0  \n",
       "2                     0.672   32        1  \n",
       "3                     0.167   21        0  \n",
       "4                     2.288   33        1  "
      ]
     },
     "execution_count": 2,
     "metadata": {},
     "output_type": "execute_result"
    }
   ],
   "source": [
    "df1 = pd.read_csv(\"diabetes.csv\")\n",
    "df1.head()"
   ]
  },
  {
   "cell_type": "code",
   "execution_count": 3,
   "id": "dfc3e086-6701-4bf2-9b0c-621d7d44686a",
   "metadata": {},
   "outputs": [
    {
     "name": "stdout",
     "output_type": "stream",
     "text": [
      "Index(['Pregnancies', 'Glucose', 'BloodPressure', 'SkinThickness', 'Insulin',\n",
      "       'BMI', 'DiabetesPedigreeFunction', 'Age', 'Outcome'],\n",
      "      dtype='object')\n",
      "(768, 9)\n"
     ]
    }
   ],
   "source": [
    "print(df1.columns)\n",
    "print(df1.shape)"
   ]
  },
  {
   "cell_type": "code",
   "execution_count": 4,
   "id": "2d8097ab-093b-4d49-8c57-ad5a3ef7d5b8",
   "metadata": {},
   "outputs": [],
   "source": [
    "df1 = df1[(df1['Glucose'] != 0) & (df1['Insulin'] != 0)]\n",
    "df1 = df1[(df1['BloodPressure'] != 0) & (df1['SkinThickness'] != 0) & (df1['BMI'] != 0) & (df1['DiabetesPedigreeFunction'] != 0)]"
   ]
  },
  {
   "cell_type": "code",
   "execution_count": 5,
   "id": "6b65c239-45d1-4a76-bbca-01fa07ea4069",
   "metadata": {},
   "outputs": [
    {
     "name": "stdout",
     "output_type": "stream",
     "text": [
      "(392, 9)\n"
     ]
    }
   ],
   "source": [
    "print(df1.shape)"
   ]
  },
  {
   "cell_type": "code",
   "execution_count": 6,
   "id": "80db6405-f0a2-47d3-ae98-aa79359789a5",
   "metadata": {},
   "outputs": [
    {
     "data": {
      "text/html": [
       "<div>\n",
       "<style scoped>\n",
       "    .dataframe tbody tr th:only-of-type {\n",
       "        vertical-align: middle;\n",
       "    }\n",
       "\n",
       "    .dataframe tbody tr th {\n",
       "        vertical-align: top;\n",
       "    }\n",
       "\n",
       "    .dataframe thead th {\n",
       "        text-align: right;\n",
       "    }\n",
       "</style>\n",
       "<table border=\"1\" class=\"dataframe\">\n",
       "  <thead>\n",
       "    <tr style=\"text-align: right;\">\n",
       "      <th></th>\n",
       "      <th>Pregnancies</th>\n",
       "      <th>Glucose</th>\n",
       "      <th>BloodPressure</th>\n",
       "      <th>SkinThickness</th>\n",
       "      <th>Insulin</th>\n",
       "      <th>BMI</th>\n",
       "      <th>DiabetesPedigreeFunction</th>\n",
       "      <th>Age</th>\n",
       "      <th>Outcome</th>\n",
       "    </tr>\n",
       "  </thead>\n",
       "  <tbody>\n",
       "    <tr>\n",
       "      <th>0</th>\n",
       "      <td>1</td>\n",
       "      <td>89</td>\n",
       "      <td>66</td>\n",
       "      <td>23</td>\n",
       "      <td>94</td>\n",
       "      <td>28.1</td>\n",
       "      <td>0.167</td>\n",
       "      <td>21</td>\n",
       "      <td>0</td>\n",
       "    </tr>\n",
       "    <tr>\n",
       "      <th>1</th>\n",
       "      <td>0</td>\n",
       "      <td>137</td>\n",
       "      <td>40</td>\n",
       "      <td>35</td>\n",
       "      <td>168</td>\n",
       "      <td>43.1</td>\n",
       "      <td>2.288</td>\n",
       "      <td>33</td>\n",
       "      <td>1</td>\n",
       "    </tr>\n",
       "    <tr>\n",
       "      <th>2</th>\n",
       "      <td>3</td>\n",
       "      <td>78</td>\n",
       "      <td>50</td>\n",
       "      <td>32</td>\n",
       "      <td>88</td>\n",
       "      <td>31.0</td>\n",
       "      <td>0.248</td>\n",
       "      <td>26</td>\n",
       "      <td>1</td>\n",
       "    </tr>\n",
       "    <tr>\n",
       "      <th>3</th>\n",
       "      <td>2</td>\n",
       "      <td>197</td>\n",
       "      <td>70</td>\n",
       "      <td>45</td>\n",
       "      <td>543</td>\n",
       "      <td>30.5</td>\n",
       "      <td>0.158</td>\n",
       "      <td>53</td>\n",
       "      <td>1</td>\n",
       "    </tr>\n",
       "    <tr>\n",
       "      <th>4</th>\n",
       "      <td>1</td>\n",
       "      <td>189</td>\n",
       "      <td>60</td>\n",
       "      <td>23</td>\n",
       "      <td>846</td>\n",
       "      <td>30.1</td>\n",
       "      <td>0.398</td>\n",
       "      <td>59</td>\n",
       "      <td>1</td>\n",
       "    </tr>\n",
       "  </tbody>\n",
       "</table>\n",
       "</div>"
      ],
      "text/plain": [
       "   Pregnancies  Glucose  BloodPressure  SkinThickness  Insulin   BMI  \\\n",
       "0            1       89             66             23       94  28.1   \n",
       "1            0      137             40             35      168  43.1   \n",
       "2            3       78             50             32       88  31.0   \n",
       "3            2      197             70             45      543  30.5   \n",
       "4            1      189             60             23      846  30.1   \n",
       "\n",
       "   DiabetesPedigreeFunction  Age  Outcome  \n",
       "0                     0.167   21        0  \n",
       "1                     2.288   33        1  \n",
       "2                     0.248   26        1  \n",
       "3                     0.158   53        1  \n",
       "4                     0.398   59        1  "
      ]
     },
     "execution_count": 6,
     "metadata": {},
     "output_type": "execute_result"
    }
   ],
   "source": [
    "df1 = df1.reset_index(drop=True)\n",
    "df1.head()"
   ]
  },
  {
   "cell_type": "code",
   "execution_count": 7,
   "id": "e869b6e1-8f52-40c6-b31a-abeb34e6ec2a",
   "metadata": {},
   "outputs": [],
   "source": [
    "df2 = df1"
   ]
  },
  {
   "cell_type": "code",
   "execution_count": 8,
   "id": "fbc47c23-b6a2-4135-8521-c3ff26d91a43",
   "metadata": {
    "collapsed": true,
    "jupyter": {
     "outputs_hidden": true
    },
    "tags": []
   },
   "outputs": [
    {
     "name": "stdout",
     "output_type": "stream",
     "text": [
      "Pregnancies\n"
     ]
    },
    {
     "data": {
      "image/png": "[encoded data removed]",
      "text/plain": [
       "<Figure size 640x480 with 1 Axes>"
      ]
     },
     "metadata": {},
     "output_type": "display_data"
    },
    {
     "name": "stdout",
     "output_type": "stream",
     "text": [
      "Glucose\n"
     ]
    },
    {
     "data": {
      "image/png": "[encoded data removed]",
      "text/plain": [
       "<Figure size 640x480 with 1 Axes>"
      ]
     },
     "metadata": {},
     "output_type": "display_data"
    },
    {
     "name": "stdout",
     "output_type": "stream",
     "text": [
      "BloodPressure\n"
     ]
    },
    {
     "data": {
      "image/png": "[encoded data removed]",
      "text/plain": [
       "<Figure size 640x480 with 1 Axes>"
      ]
     },
     "metadata": {},
     "output_type": "display_data"
    },
    {
     "name": "stdout",
     "output_type": "stream",
     "text": [
      "SkinThickness\n"
     ]
    },
    {
     "data": {
      "image/png": "[encoded data removed]",
      "text/plain": [
       "<Figure size 640x480 with 1 Axes>"
      ]
     },
     "metadata": {},
     "output_type": "display_data"
    },
    {
     "name": "stdout",
     "output_type": "stream",
     "text": [
      "Insulin\n"
     ]
    },
    {
     "data": {
      "image/png": "[encoded data removed]",
      "text/plain": [
       "<Figure size 640x480 with 1 Axes>"
      ]
     },
     "metadata": {},
     "output_type": "display_data"
    },
    {
     "name": "stdout",
     "output_type": "stream",
     "text": [
      "DiabetesPedigreeFunction\n"
     ]
    },
    {
     "data": {
      "image/png": "[encoded data removed]",
      "text/plain": [
       "<Figure size 640x480 with 1 Axes>"
      ]
     },
     "metadata": {},
     "output_type": "display_data"
    },
    {
     "name": "stdout",
     "output_type": "stream",
     "text": [
      "Age\n"
     ]
    },
    {
     "data": {
      "image/png": "[encoded data removed]",
      "text/plain": [
       "<Figure size 640x480 with 1 Axes>"
      ]
     },
     "metadata": {},
     "output_type": "display_data"
    }
   ],
   "source": [
    "print('Pregnancies')\n",
    "plt.hist(df1['Pregnancies'][df1['Outcome']==0],alpha=0.5, color = 'b')\n",
    "plt.hist(df1['Pregnancies'][df1['Outcome']==1], color = 'r',alpha=0.5)\n",
    "plt.show()\n",
    "\n",
    "print('Glucose')\n",
    "plt.hist(df1['Glucose'][df1['Outcome']==0],alpha=0.5, color = 'b')\n",
    "plt.hist(df1['Glucose'][df1['Outcome']==1], color = 'r',alpha=0.5)\n",
    "plt.show()\n",
    "\n",
    "print('BloodPressure')\n",
    "plt.hist(df1['BloodPressure'][df1['Outcome']==0],alpha=0.5, color = 'b')\n",
    "plt.hist(df1['BloodPressure'][df1['Outcome']==1], color = 'r',alpha=0.5)\n",
    "plt.show()\n",
    "\n",
    "print('SkinThickness')\n",
    "plt.hist(df1['SkinThickness'][df1['Outcome']==0],alpha=0.5, color = 'b')\n",
    "plt.hist(df1['SkinThickness'][df1['Outcome']==1], color = 'r',alpha=0.5)\n",
    "plt.show()\n",
    "\n",
    "print('Insulin')\n",
    "plt.hist(df1['Insulin'][df1['Outcome']==0],alpha=0.5, color = 'b')\n",
    "plt.hist(df1['Insulin'][df1['Outcome']==1], color = 'r',alpha=0.5)\n",
    "plt.show()\n",
    "\n",
    "print('DiabetesPedigreeFunction')\n",
    "plt.hist(df1['DiabetesPedigreeFunction'][df1['Outcome']==0],alpha=0.5, color = 'b')\n",
    "plt.hist(df1['DiabetesPedigreeFunction'][df1['Outcome']==1], color = 'r',alpha=0.5)\n",
    "plt.show()\n",
    "\n",
    "print('Age')\n",
    "plt.hist(df1['Age'][df1['Outcome']==0],alpha=0.5, color = 'b')\n",
    "plt.hist(df1['Age'][df1['Outcome']==1], color = 'r',alpha=0.5)\n",
    "plt.show()"
   ]
  },
  {
   "cell_type": "code",
   "execution_count": 9,
   "id": "d0075597-4a21-421b-9a64-df65e4af0f49",
   "metadata": {},
   "outputs": [
    {
     "data": {
      "text/html": [
       "<div>\n",
       "<style scoped>\n",
       "    .dataframe tbody tr th:only-of-type {\n",
       "        vertical-align: middle;\n",
       "    }\n",
       "\n",
       "    .dataframe tbody tr th {\n",
       "        vertical-align: top;\n",
       "    }\n",
       "\n",
       "    .dataframe thead th {\n",
       "        text-align: right;\n",
       "    }\n",
       "</style>\n",
       "<table border=\"1\" class=\"dataframe\">\n",
       "  <thead>\n",
       "    <tr style=\"text-align: right;\">\n",
       "      <th></th>\n",
       "      <th>Pregnancies</th>\n",
       "      <th>Glucose</th>\n",
       "      <th>BloodPressure</th>\n",
       "      <th>SkinThickness</th>\n",
       "      <th>Insulin</th>\n",
       "      <th>BMI</th>\n",
       "      <th>DiabetesPedigreeFunction</th>\n",
       "      <th>Age</th>\n",
       "    </tr>\n",
       "  </thead>\n",
       "  <tbody>\n",
       "    <tr>\n",
       "      <th>0</th>\n",
       "      <td>1</td>\n",
       "      <td>89</td>\n",
       "      <td>66</td>\n",
       "      <td>23</td>\n",
       "      <td>94</td>\n",
       "      <td>28.1</td>\n",
       "      <td>0.167</td>\n",
       "      <td>21</td>\n",
       "    </tr>\n",
       "    <tr>\n",
       "      <th>1</th>\n",
       "      <td>0</td>\n",
       "      <td>137</td>\n",
       "      <td>40</td>\n",
       "      <td>35</td>\n",
       "      <td>168</td>\n",
       "      <td>43.1</td>\n",
       "      <td>2.288</td>\n",
       "      <td>33</td>\n",
       "    </tr>\n",
       "    <tr>\n",
       "      <th>2</th>\n",
       "      <td>3</td>\n",
       "      <td>78</td>\n",
       "      <td>50</td>\n",
       "      <td>32</td>\n",
       "      <td>88</td>\n",
       "      <td>31.0</td>\n",
       "      <td>0.248</td>\n",
       "      <td>26</td>\n",
       "    </tr>\n",
       "    <tr>\n",
       "      <th>3</th>\n",
       "      <td>2</td>\n",
       "      <td>197</td>\n",
       "      <td>70</td>\n",
       "      <td>45</td>\n",
       "      <td>543</td>\n",
       "      <td>30.5</td>\n",
       "      <td>0.158</td>\n",
       "      <td>53</td>\n",
       "    </tr>\n",
       "    <tr>\n",
       "      <th>4</th>\n",
       "      <td>1</td>\n",
       "      <td>189</td>\n",
       "      <td>60</td>\n",
       "      <td>23</td>\n",
       "      <td>846</td>\n",
       "      <td>30.1</td>\n",
       "      <td>0.398</td>\n",
       "      <td>59</td>\n",
       "    </tr>\n",
       "  </tbody>\n",
       "</table>\n",
       "</div>"
      ],
      "text/plain": [
       "   Pregnancies  Glucose  BloodPressure  SkinThickness  Insulin   BMI  \\\n",
       "0            1       89             66             23       94  28.1   \n",
       "1            0      137             40             35      168  43.1   \n",
       "2            3       78             50             32       88  31.0   \n",
       "3            2      197             70             45      543  30.5   \n",
       "4            1      189             60             23      846  30.1   \n",
       "\n",
       "   DiabetesPedigreeFunction  Age  \n",
       "0                     0.167   21  \n",
       "1                     2.288   33  \n",
       "2                     0.248   26  \n",
       "3                     0.158   53  \n",
       "4                     0.398   59  "
      ]
     },
     "execution_count": 9,
     "metadata": {},
     "output_type": "execute_result"
    }
   ],
   "source": [
    "X = df2.drop('Outcome', axis = 1)\n",
    "X.head()"
   ]
  },
  {
   "cell_type": "code",
   "execution_count": 10,
   "id": "d950a326-570c-4417-9efd-e141451180e4",
   "metadata": {},
   "outputs": [
    {
     "data": {
      "text/plain": [
       "0    0\n",
       "1    1\n",
       "2    1\n",
       "3    1\n",
       "4    1\n",
       "Name: Outcome, dtype: int64"
      ]
     },
     "execution_count": 10,
     "metadata": {},
     "output_type": "execute_result"
    }
   ],
   "source": [
    "y = df2.Outcome\n",
    "y.head()"
   ]
  },
  {
   "cell_type": "code",
   "execution_count": 11,
   "id": "22afab75-f40d-4b49-8ead-33b5bc2e157e",
   "metadata": {},
   "outputs": [],
   "source": [
    "import numpy as np\n",
    "from sklearn.ensemble import RandomForestClassifier\n",
    "from sklearn.metrics import accuracy_score\n",
    "from sklearn.model_selection import train_test_split\n",
    "\n",
    "# Define the MPA algorithm\n",
    "def update_agents(agents, fitness, best_agent, alpha=0.5, beta=0.1):\n",
    "    num_agents = agents.shape[0]\n",
    "    dimension = agents.shape[1]\n",
    "\n",
    "    for i in range(num_agents):\n",
    "        # Calculate the distance to the best agent\n",
    "        distance = best_agent - agents[i]\n",
    "\n",
    "        # Update position based on MPA rules\n",
    "        if np.random.rand() < alpha:  # Attraction to the best agent\n",
    "            agents[i] += alpha * distance * np.random.rand(dimension)\n",
    "        else:  # Random exploration\n",
    "            agents[i] += beta * (np.random.rand(dimension) - 0.5)\n",
    "\n",
    "        # Ensure the new position is within bounds\n",
    "        agents[i] = np.clip(agents[i], [10, 1, 1, 1, 1], [200, 10, 20, 10, 8])  # Example bounds\n",
    "\n",
    "    return agents\n",
    "\n",
    "# Hyperparameter optimization using MPA\n",
    "def hyperparameter_optimization(X, y, max_iterations=50, num_agents=10):\n",
    "    # Initialize agents randomly within specified bounds\n",
    "    # Example: [n_estimators, max_depth, min_samples_split, min_samples_leaf, max_features]\n",
    "    agents = np.random.rand(num_agents, 5)\n",
    "    agents[:, 0] = agents[:, 0] * 190 + 10  # n_estimators (10 to 200)\n",
    "    agents[:, 1] = agents[:, 1] * 9 + 1     # max_depth (1 to 10)\n",
    "    agents[:, 2] = agents[:, 2] * 20 + 1    # min_samples_split (1 to 20)\n",
    "    agents[:, 3] = agents[:, 3] * 10 + 1    # min_samples_leaf (1 to 10)\n",
    "    agents[:, 4] = agents[:, 4] * 8 + 1      # max_features (1 to 8)\n",
    "\n",
    "    best_fitness = float('-inf')\n",
    "    best_agent = None\n",
    "\n",
    "    for iteration in range(max_iterations):\n",
    "        for i in range(num_agents):\n",
    "            # Extract hyperparameters\n",
    "            n_estimators = int(agents[i, 0])\n",
    "            max_depth = int(agents[i, 1])\n",
    "            min_samples_split = int(agents[i, 2])\n",
    "            min_samples_leaf = int(agents[i, 3])\n",
    "            max_features = int(agents[i, 4])\n",
    "\n",
    "            # Create and evaluate the RandomForestClassifier\n",
    "            clf = RandomForestClassifier(n_estimators=n_estimators,\n",
    "                                         max_depth=max_depth,\n",
    "                                         min_samples_split=min_samples_split,\n",
    "                                         min_samples_leaf=min_samples_leaf,\n",
    "                                         max_features=max_features,\n",
    "                                         random_state=42)\n",
    "\n",
    "            # Fit the model and evaluate fitness (accuracy)\n",
    "            clf.fit(X_train, y_train)\n",
    "            y_pred = clf.predict(X_test)\n",
    "            fitness = accuracy_score(y_test, y_pred)\n",
    "\n",
    "            # Update the best agent if current fitness is better\n",
    "            if fitness > best_fitness:\n",
    "                best_fitness = fitness\n",
    "                best_agent = agents[i]\n",
    "\n",
    "        # Update agents based on MPA rules\n",
    "        agents = update_agents(agents, fitness, best_agent)\n",
    "\n",
    "    return best_agent, best_fitness"
   ]
  },
  {
   "cell_type": "code",
   "execution_count": 23,
   "id": "4ed7b674-4382-4f93-8fb3-7d1e32b47b1f",
   "metadata": {},
   "outputs": [
    {
     "name": "stdout",
     "output_type": "stream",
     "text": [
      "Best Hyperparameters: [68.50513151  8.09376657 19.61271243  9.89971687  5.03676159]\n",
      "Best Accuracy: 0.759493670886076\n"
     ]
    }
   ],
   "source": [
    "X_train, X_test, y_train, y_test = train_test_split(X, y, test_size=0.2, random_state=42)\n",
    "\n",
    "best_hyperparams, best_accuracy = hyperparameter_optimization(X_train, y_train)\n",
    "print(\"Best Hyperparameters:\", best_hyperparams)\n",
    "print(\"Best Accuracy:\", best_accuracy)"
   ]
  },
  {
   "cell_type": "code",
   "execution_count": 24,
   "id": "b96723d7-cd19-4abb-a54d-94ba7148278b",
   "metadata": {
    "tags": []
   },
   "outputs": [
    {
     "name": "stdout",
     "output_type": "stream",
     "text": [
      "69 8 20 10 5\n"
     ]
    }
   ],
   "source": [
    "n_estimators,max_depth,min_samples_split,min_samples_leaf,max_features = best_hyperparams\n",
    "n_estimators,max_depth,min_samples_split,min_samples_leaf,max_features = round(n_estimators),round(max_depth),round(min_samples_split),round(min_samples_leaf),round(max_features)\n",
    "print(n_estimators,max_depth,min_samples_split,min_samples_leaf,max_features)"
   ]
  },
  {
   "cell_type": "markdown",
   "id": "c901961a-7d59-4e12-b0a5-ebef4dbd4788",
   "metadata": {},
   "source": [
    "## RandomForestClassifier using MPA:"
   ]
  },
  {
   "cell_type": "code",
   "execution_count": 42,
   "id": "6b71f476-6049-45d7-9798-f20620f47254",
   "metadata": {
    "tags": []
   },
   "outputs": [
    {
     "name": "stdout",
     "output_type": "stream",
     "text": [
      "Training Accuracy = 0.8594249201277955\n",
      "Test Accuracy = 0.759493670886076\n",
      "acc= 0.759493670886076\n",
      "[[45  7]\n",
      " [12 15]]\n",
      "              precision    recall  f1-score   support\n",
      "\n",
      "           0       0.79      0.87      0.83        52\n",
      "           1       0.68      0.56      0.61        27\n",
      "\n",
      "    accuracy                           0.76        79\n",
      "   macro avg       0.74      0.71      0.72        79\n",
      "weighted avg       0.75      0.76      0.75        79\n",
      "\n"
     ]
    }
   ],
   "source": [
    "model_1 = RandomForestClassifier(n_estimators=n_estimators,\n",
    "                                         max_depth=max_depth,\n",
    "                                         min_samples_split=min_samples_split,\n",
    "                                         min_samples_leaf=min_samples_leaf,\n",
    "                                         max_features=max_features,\n",
    "                                         random_state=42)\n",
    "model_1.fit(X_train.values, y_train.values)\n",
    "model_1_train = model_1.predict(X_train.values)\n",
    "print(\"Training Accuracy =\", format(metrics.accuracy_score(y_train.values, model_1_train)))\n",
    "pred_1 = model_1.predict(X_test.values)\n",
    "print(\"Test Accuracy =\", format(metrics.accuracy_score(y_test.values, pred_1)))\n",
    "Accuracy = format(metrics.accuracy_score(y_test.values, pred_1))\n",
    "print('acc=',Accuracy)\n",
    "number_float = float(Accuracy)\n",
    "number_float = number_float * 100\n",
    "Accuracy = round(number_float, 1)\n",
    "print(confusion_matrix(y_test.values, pred_1))\n",
    "print(classification_report(y_test.values, pred_1))"
   ]
  },
  {
   "cell_type": "markdown",
   "id": "5ae68ef7-f418-4198-8105-c0a43087462a",
   "metadata": {},
   "source": [
    "## Normal RandomForestClassifier"
   ]
  },
  {
   "cell_type": "code",
   "execution_count": 15,
   "id": "b42578f5-62c4-45c8-92b4-c86e89bea4e7",
   "metadata": {},
   "outputs": [
    {
     "data": {
      "text/html": [
       "<style>#sk-container-id-1 {color: black;}#sk-container-id-1 pre{padding: 0;}#sk-container-id-1 div.sk-toggleable {background-color: white;}#sk-container-id-1 label.sk-toggleable__label {cursor: pointer;display: block;width: 100%;margin-bottom: 0;padding: 0.3em;box-sizing: border-box;text-align: center;}#sk-container-id-1 label.sk-toggleable__label-arrow:before {content: \"▸\";float: left;margin-right: 0.25em;color: #696969;}#sk-container-id-1 label.sk-toggleable__label-arrow:hover:before {color: black;}#sk-container-id-1 div.sk-estimator:hover label.sk-toggleable__label-arrow:before {color: black;}#sk-container-id-1 div.sk-toggleable__content {max-height: 0;max-width: 0;overflow: hidden;text-align: left;background-color: #f0f8ff;}#sk-container-id-1 div.sk-toggleable__content pre {margin: 0.2em;color: black;border-radius: 0.25em;background-color: #f0f8ff;}#sk-container-id-1 input.sk-toggleable__control:checked~div.sk-toggleable__content {max-height: 200px;max-width: 100%;overflow: auto;}#sk-container-id-1 input.sk-toggleable__control:checked~label.sk-toggleable__label-arrow:before {content: \"▾\";}#sk-container-id-1 div.sk-estimator input.sk-toggleable__control:checked~label.sk-toggleable__label {background-color: #d4ebff;}#sk-container-id-1 div.sk-label input.sk-toggleable__control:checked~label.sk-toggleable__label {background-color: #d4ebff;}#sk-container-id-1 input.sk-hidden--visually {border: 0;clip: rect(1px 1px 1px 1px);clip: rect(1px, 1px, 1px, 1px);height: 1px;margin: -1px;overflow: hidden;padding: 0;position: absolute;width: 1px;}#sk-container-id-1 div.sk-estimator {font-family: monospace;background-color: #f0f8ff;border: 1px dotted black;border-radius: 0.25em;box-sizing: border-box;margin-bottom: 0.5em;}#sk-container-id-1 div.sk-estimator:hover {background-color: #d4ebff;}#sk-container-id-1 div.sk-parallel-item::after {content: \"\";width: 100%;border-bottom: 1px solid gray;flex-grow: 1;}#sk-container-id-1 div.sk-label:hover label.sk-toggleable__label {background-color: #d4ebff;}#sk-container-id-1 div.sk-serial::before {content: \"\";position: absolute;border-left: 1px solid gray;box-sizing: border-box;top: 0;bottom: 0;left: 50%;z-index: 0;}#sk-container-id-1 div.sk-serial {display: flex;flex-direction: column;align-items: center;background-color: white;padding-right: 0.2em;padding-left: 0.2em;position: relative;}#sk-container-id-1 div.sk-item {position: relative;z-index: 1;}#sk-container-id-1 div.sk-parallel {display: flex;align-items: stretch;justify-content: center;background-color: white;position: relative;}#sk-container-id-1 div.sk-item::before, #sk-container-id-1 div.sk-parallel-item::before {content: \"\";position: absolute;border-left: 1px solid gray;box-sizing: border-box;top: 0;bottom: 0;left: 50%;z-index: -1;}#sk-container-id-1 div.sk-parallel-item {display: flex;flex-direction: column;z-index: 1;position: relative;background-color: white;}#sk-container-id-1 div.sk-parallel-item:first-child::after {align-self: flex-end;width: 50%;}#sk-container-id-1 div.sk-parallel-item:last-child::after {align-self: flex-start;width: 50%;}#sk-container-id-1 div.sk-parallel-item:only-child::after {width: 0;}#sk-container-id-1 div.sk-dashed-wrapped {border: 1px dashed gray;margin: 0 0.4em 0.5em 0.4em;box-sizing: border-box;padding-bottom: 0.4em;background-color: white;}#sk-container-id-1 div.sk-label label {font-family: monospace;font-weight: bold;display: inline-block;line-height: 1.2em;}#sk-container-id-1 div.sk-label-container {text-align: center;}#sk-container-id-1 div.sk-container {/* jupyter's `normalize.less` sets `[hidden] { display: none; }` but bootstrap.min.css set `[hidden] { display: none !important; }` so we also need the `!important` here to be able to override the default hidden behavior on the sphinx rendered scikit-learn.org. See: https://github.com/scikit-learn/scikit-learn/issues/21755 */display: inline-block !important;position: relative;}#sk-container-id-1 div.sk-text-repr-fallback {display: none;}</style><div id=\"sk-container-id-1\" class=\"sk-top-container\"><div class=\"sk-text-repr-fallback\"><pre>RandomForestClassifier(n_estimators=152, random_state=42)</pre><b>In a Jupyter environment, please rerun this cell to show the HTML representation or trust the notebook. <br />On GitHub, the HTML representation is unable to render, please try loading this page with nbviewer.org.</b></div><div class=\"sk-container\" hidden><div class=\"sk-item\"><div class=\"sk-estimator sk-toggleable\"><input class=\"sk-toggleable__control sk-hidden--visually\" id=\"sk-estimator-id-1\" type=\"checkbox\" checked><label for=\"sk-estimator-id-1\" class=\"sk-toggleable__label sk-toggleable__label-arrow\">RandomForestClassifier</label><div class=\"sk-toggleable__content\"><pre>RandomForestClassifier(n_estimators=152, random_state=42)</pre></div></div></div></div></div>"
      ],
      "text/plain": [
       "RandomForestClassifier(n_estimators=152, random_state=42)"
      ]
     },
     "execution_count": 15,
     "metadata": {},
     "output_type": "execute_result"
    }
   ],
   "source": [
    "model_2 = RandomForestClassifier(n_estimators=n_estimators,random_state=42)\n",
    "model_2.fit(X_train, y_train)"
   ]
  },
  {
   "cell_type": "code",
   "execution_count": 16,
   "id": "08a278a7-e53e-4ef0-a435-c4d5490db86a",
   "metadata": {},
   "outputs": [
    {
     "name": "stdout",
     "output_type": "stream",
     "text": [
      "Training Accuracy = 1.0\n",
      "Test Accuracy = 0.7848101265822784\n",
      "[[45  7]\n",
      " [10 17]]\n",
      "              precision    recall  f1-score   support\n",
      "\n",
      "           0       0.82      0.87      0.84        52\n",
      "           1       0.71      0.63      0.67        27\n",
      "\n",
      "    accuracy                           0.78        79\n",
      "   macro avg       0.76      0.75      0.75        79\n",
      "weighted avg       0.78      0.78      0.78        79\n",
      "\n"
     ]
    }
   ],
   "source": [
    "model_2_train = model_2.predict(X_train)\n",
    "print(\"Training Accuracy =\", format(metrics.accuracy_score(y_train, model_2_train)))\n",
    "pred_2 = model_2.predict(X_test)\n",
    "print(\"Test Accuracy =\", format(metrics.accuracy_score(y_test, pred_2)))\n",
    "print(confusion_matrix(y_test, pred_2))\n",
    "print(classification_report(y_test, pred_2))"
   ]
  },
  {
   "cell_type": "code",
   "execution_count": 46,
   "id": "182b5c2b-7584-40ba-8076-9236d3248dd4",
   "metadata": {
    "tags": []
   },
   "outputs": [
    {
     "name": "stdout",
     "output_type": "stream",
     "text": [
      "[1]\n",
      "[1]\n",
      "[0]\n",
      "[0]\n",
      "0\n"
     ]
    }
   ],
   "source": [
    "print(model_1.predict([[0, 137, 40, 35, 168, 43.1, 2.228, 33]]))\n",
    "print(model_1.predict([[10, 101, 76, 48, 180, 32.9, 0.171, 63]]))\n",
    "print(model_1.predict([[0, 80, 66, 28, 100, 24.0, 0.159, 24]]))\n",
    "a = model_1.predict([[0, 80, 66, 28, 100, 24.0, 0.159, 24]])\n",
    "type(a)\n",
    "print(a)\n",
    "b = a[0]\n",
    "print(b)"
   ]
  },
  {
   "cell_type": "code",
   "execution_count": 45,
   "id": "413e3407-dd7a-4956-ab89-75042ea5211e",
   "metadata": {
    "tags": []
   },
   "outputs": [
    {
     "data": {
      "text/plain": [
       "numpy.ndarray"
      ]
     },
     "execution_count": 45,
     "metadata": {},
     "output_type": "execute_result"
    }
   ],
   "source": [
    "type(a)"
   ]
  },
  {
   "cell_type": "code",
   "execution_count": 43,
   "id": "2d148ec9-871f-4727-bf88-36b23a4d5f4b",
   "metadata": {
    "tags": []
   },
   "outputs": [
    {
     "name": "stdout",
     "output_type": "stream",
     "text": [
      "75.9\n"
     ]
    },
    {
     "data": {
      "text/plain": [
       "float"
      ]
     },
     "execution_count": 43,
     "metadata": {},
     "output_type": "execute_result"
    }
   ],
   "source": [
    "print(float(Accuracy))\n",
    "type(Accuracy)"
   ]
  },
  {
   "cell_type": "code",
   "execution_count": 47,
   "id": "8dd04dd7-fbb5-4508-b17a-71f01366266b",
   "metadata": {
    "tags": []
   },
   "outputs": [],
   "source": [
    "pre = 0\n",
    "glu = 80\n",
    "bp = 66\n",
    "st = 28\n",
    "ins = 100\n",
    "bmi = 24.0\n",
    "dpf = 0.159\n",
    "age = 24"
   ]
  },
  {
   "cell_type": "code",
   "execution_count": 49,
   "id": "6ad7a708-5c20-463e-ad4c-4569798e84d3",
   "metadata": {
    "tags": []
   },
   "outputs": [
    {
     "name": "stdout",
     "output_type": "stream",
     "text": [
      "0\n"
     ]
    }
   ],
   "source": [
    "a=model_1.predict([[pre,glu,bp,st,ins,bmi,dpf,age]])\n",
    "b=a[0]\n",
    "print(b)"
   ]
  },
  {
   "cell_type": "code",
   "execution_count": null,
   "id": "ef332a9e-192b-4508-9555-52b7a40d2c9d",
   "metadata": {},
   "outputs": [],
   "source": []
  }
 ],
 "metadata": {
  "kernelspec": {
   "display_name": "Python 3 (ipykernel)",
   "language": "python",
   "name": "python3"
  },
  "language_info": {
   "codemirror_mode": {
    "name": "ipython",
    "version": 3
   },
   "file_extension": ".py",
   "mimetype": "text/x-python",
   "name": "python",
   "nbconvert_exporter": "python",
   "pygments_lexer": "ipython3",
   "version": "3.13.0"
  }
 },
 "nbformat": 4,
 "nbformat_minor": 5
}
