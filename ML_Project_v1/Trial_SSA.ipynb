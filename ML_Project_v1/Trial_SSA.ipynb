{
 "cells": [
  {
   "cell_type": "code",
   "execution_count": 1,
   "id": "6799c579-2e62-4ef5-9565-b2444a76f1af",
   "metadata": {
    "tags": []
   },
   "outputs": [],
   "source": [
    "import numpy as np\n",
    "import pandas as pd\n",
    "import matplotlib.pyplot as plt\n",
    "from pandas.plotting import scatter_matrix\n",
    "from sklearn.preprocessing import StandardScaler\n",
    "from sklearn.model_selection import train_test_split\n",
    "from sklearn.ensemble import RandomForestClassifier\n",
    "from sklearn.metrics import accuracy_score\n",
    "\n",
    "from sklearn.metrics import confusion_matrix\n",
    "from sklearn import metrics\n",
    "from sklearn.metrics import classification_report\n",
    "\n",
    "df1 = pd.read_csv(\"diabetes.csv\")\n",
    "df1 = df1[(df1['Glucose'] != 0) & (df1['Insulin'] != 0)]\n",
    "df1 = df1[(df1['BloodPressure'] != 0) & (df1['SkinThickness'] != 0) & (df1['BMI'] != 0) & (df1['DiabetesPedigreeFunction'] != 0)]\n",
    "df1 = df1.reset_index(drop=True)\n",
    "df2 = df1\n",
    "X = df2.drop('Outcome', axis = 1)\n",
    "y = df2.Outcome"
   ]
  },
  {
   "cell_type": "code",
   "execution_count": 2,
   "id": "1ddd002c-7615-4216-b96d-bc542232ac1f",
   "metadata": {
    "tags": []
   },
   "outputs": [],
   "source": [
    "import numpy as np\n",
    "from sklearn.ensemble import RandomForestClassifier\n",
    "from sklearn.datasets import load_iris\n",
    "from sklearn.model_selection import train_test_split\n",
    "from sklearn.metrics import accuracy_score\n",
    "from sklearn.metrics import f1_score\n",
    "\n",
    "class Salp:\n",
    "    def __init__(self, n_estimators_range, max_depth_range, min_samples_split_range, min_samples_leaf_range):\n",
    "        self.position = np.array([\n",
    "            np.random.randint(n_estimators_range[0], n_estimators_range[1]),  \n",
    "            np.random.randint(max_depth_range[0], max_depth_range[1]),         \n",
    "            np.random.randint(min_samples_split_range[0], min_samples_split_range[1]),  \n",
    "            np.random.randint(min_samples_leaf_range[0], min_samples_leaf_range[1])       \n",
    "        ])\n",
    "        self.fitness = float('inf')  \n",
    "\n",
    "def evaluate_salp(salp, X_train, y_train, X_test, y_test):\n",
    "    n_estimators = int(salp.position[0])\n",
    "    max_depth = int(salp.position[1])\n",
    "    min_samples_split = int(salp.position[2])\n",
    "    min_samples_leaf = int(salp.position[3])\n",
    "    \n",
    "    model_SSA = RandomForestClassifier(\n",
    "        n_estimators=n_estimators,\n",
    "        max_depth=max_depth,\n",
    "        min_samples_split=min_samples_split,\n",
    "        min_samples_leaf=min_samples_leaf,\n",
    "        random_state=42\n",
    "    )\n",
    "    \n",
    "    # Fit the model\n",
    "    model_SSA.fit(X_train, y_train)\n",
    "    \n",
    "    # Make predictions\n",
    "    predictions = model_SSA.predict(X_test)\n",
    "    \n",
    "    # Calculate accuracy\n",
    "    accuracy = accuracy_score(y_test, predictions)\n",
    "    return accuracy\n",
    "\n",
    "def ssa(num_salps, n_estimators_range, max_depth_range, min_samples_split_range, min_samples_leaf_range, max_iter, X, y):\n",
    "    # Split the data into training and testing sets\n",
    "    X_train, X_test, y_train, y_test = train_test_split(X, y, test_size=0.2, random_state=42)\n",
    "\n",
    "    salps = [Salp(n_estimators_range, max_depth_range, min_samples_split_range, min_samples_leaf_range) for _ in range(num_salps)]\n",
    "    \n",
    "    for iter in range(max_iter):\n",
    "        for salp in salps:\n",
    "            salp.fitness = evaluate_salp(salp, X_train, y_train, X_test, y_test)\n",
    "\n",
    "        # Sort salps by fitness (accuracy)\n",
    "        salps = sorted(salps, key=lambda s: s.fitness, reverse=True)\n",
    "\n",
    "        # Update positions of salps\n",
    "        for i in range(len(salps)):\n",
    "            if i == 0:  # Leader salp\n",
    "                continue\n",
    "            # Update position based on the leader\n",
    "            salps[i].position = salps[0].position + np.random.uniform(-1, 1, size=salps[i].position.shape)\n",
    "\n",
    "            # Ensure positions are within bounds\n",
    "            salps[i].position[0] = np.clip(np.round(salps[i].position[0]), n_estimators_range[0], n_estimators_range[1])\n",
    "            salps[i].position[1] = np.clip(np.round(salps[i].position[1]), max_depth_range[0], max_depth_range[1])\n",
    "            salps[i].position[2] = np.clip(np.round(salps[i].position[2]), min_samples_split_range[0], min_samples_split_range[1])\n",
    "            salps[i].position[3] = np.clip(np.round(salps[i].position[3]), min_samples_leaf_range[0], min_samples_leaf_range[1])\n",
    "\n",
    "    best_salp = salps[0]\n",
    "    return best_salp.position, best_salp.fitness\n",
    "\n",
    "# Example usage\n",
    "num_salps = 20  # Number of salps\n",
    "n_estimators_range = (10, 200)  # Range for n_estimators\n",
    "max_depth_range = (8, 20)  # Range for max_depth\n",
    "min_samples_split_range = (2, 10)  # Range for min_samples_split\n",
    "min_samples_leaf_range = (1, 10)  # Range for min_samples_leaf\n",
    "max_iter = 25  # Number of iterations\n"
   ]
  },
  {
   "cell_type": "code",
   "execution_count": 5,
   "id": "43ddb484-e5bc-4511-8be1-1e91f317ec73",
   "metadata": {
    "tags": []
   },
   "outputs": [],
   "source": [
    "def main(X, y):\n",
    "    X_train, X_test, y_train, y_test = train_test_split(X, y, test_size=0.2, random_state=42)\n",
    "    best_position, best_value = ssa(num_salps, n_estimators_range, max_depth_range, min_samples_split_range, min_samples_leaf_range, max_iter, X, y)\n",
    "    n_estimators, max_depth, min_samples_split, min_samples_leaf = best_position\n",
    "    n_estimators,max_depth,min_samples_split,min_samples_leaf = int(n_estimators),int(max_depth),int(min_samples_split),int(min_samples_leaf)\n",
    "    model_SSA = RandomForestClassifier(\n",
    "        n_estimators=n_estimators,\n",
    "        max_depth=max_depth,\n",
    "        min_samples_split=min_samples_split,\n",
    "        min_samples_leaf=min_samples_leaf,\n",
    "        random_state=42\n",
    "    )\n",
    "    model_SSA.fit(X_train, y_train)\n",
    "    predictions = model_SSA.predict(X_test)\n",
    "    \n",
    "    accuracy = accuracy_score(y_test, predictions)\n",
    "    \n",
    "    tn, fp, fn, tp = confusion_matrix(y_test, predictions).ravel()\n",
    "\n",
    "    # Calculate Sensitivity (True Positive Rate)\n",
    "    sensitivity = tp / (tp + fn) if (tp + fn) > 0 else 0\n",
    "\n",
    "    # Calculate Specificity (True Negative Rate)\n",
    "    specificity = tn / (tn + fp) if (tn + fp) > 0 else 0\n",
    "\n",
    "    # Calculate Prevalence\n",
    "    prevalence = (tp + fn) / (tp + fn + tn + fp) if (tp + fn + tn + fp) > 0 else 0\n",
    "    accuracy = f\"{accuracy:.3f}\"\n",
    "    specificity = f\"{specificity:.3f}\"\n",
    "    sensitivity = f\"{sensitivity:.3f}\"\n",
    "    prevalence = f\"{prevalence:.3f}\"\n",
    "    f1 = f1_score(y_test, predictions)\n",
    "    f1 = f\"{f1:.3f}\"\n",
    "    print('SSA: ')\n",
    "    print(f\"Best Position (n_estimators, max_depth, min_samples_split, min_samples_leaf): {best_position}\")\n",
    "    print(f\"Best Value (Accuracy): {best_value}\")\n",
    "    return model_SSA, accuracy, specificity, sensitivity, prevalence, f1"
   ]
  },
  {
   "cell_type": "code",
   "execution_count": 6,
   "id": "55c8f5e1-d3b0-4aa2-962b-03d01cd49e12",
   "metadata": {
    "tags": []
   },
   "outputs": [
    {
     "ename": "InvalidParameterError",
     "evalue": "The 'min_samples_leaf' parameter of RandomForestClassifier must be an int in the range [1, inf) or a float in the range (0.0, 1.0). Got 1.0 instead.",
     "output_type": "error",
     "traceback": [
      "\u001b[1;31m---------------------------------------------------------------------------\u001b[0m",
      "\u001b[1;31mInvalidParameterError\u001b[0m                     Traceback (most recent call last)",
      "Cell \u001b[1;32mIn[6], line 2\u001b[0m\n\u001b[0;32m      1\u001b[0m \u001b[38;5;28;01mif\u001b[39;00m \u001b[38;5;18m__name__\u001b[39m \u001b[38;5;241m==\u001b[39m \u001b[38;5;124m\"\u001b[39m\u001b[38;5;124m__main__\u001b[39m\u001b[38;5;124m\"\u001b[39m:\n\u001b[1;32m----> 2\u001b[0m     main(X, y)\n",
      "Cell \u001b[1;32mIn[5], line 13\u001b[0m, in \u001b[0;36mmain\u001b[1;34m(X, y)\u001b[0m\n\u001b[0;32m      5\u001b[0m max_depth \u001b[38;5;241m=\u001b[39m \u001b[38;5;28mint\u001b[39m(max_depth)\n\u001b[0;32m      6\u001b[0m model_SSA \u001b[38;5;241m=\u001b[39m RandomForestClassifier(\n\u001b[0;32m      7\u001b[0m     n_estimators\u001b[38;5;241m=\u001b[39mn_estimators,\n\u001b[0;32m      8\u001b[0m     max_depth\u001b[38;5;241m=\u001b[39mmax_depth,\n\u001b[1;32m   (...)\u001b[0m\n\u001b[0;32m     11\u001b[0m     random_state\u001b[38;5;241m=\u001b[39m\u001b[38;5;241m42\u001b[39m\n\u001b[0;32m     12\u001b[0m )\n\u001b[1;32m---> 13\u001b[0m model_SSA\u001b[38;5;241m.\u001b[39mfit(X_train, y_train)\n\u001b[0;32m     14\u001b[0m predictions \u001b[38;5;241m=\u001b[39m model_SSA\u001b[38;5;241m.\u001b[39mpredict(X_test)\n\u001b[0;32m     16\u001b[0m accuracy \u001b[38;5;241m=\u001b[39m accuracy_score(y_test, predictions)\n",
      "File \u001b[1;32mC:\\ProgramData\\anaconda3.1\\Lib\\site-packages\\sklearn\\base.py:1144\u001b[0m, in \u001b[0;36m_fit_context.<locals>.decorator.<locals>.wrapper\u001b[1;34m(estimator, *args, **kwargs)\u001b[0m\n\u001b[0;32m   1139\u001b[0m partial_fit_and_fitted \u001b[38;5;241m=\u001b[39m (\n\u001b[0;32m   1140\u001b[0m     fit_method\u001b[38;5;241m.\u001b[39m\u001b[38;5;18m__name__\u001b[39m \u001b[38;5;241m==\u001b[39m \u001b[38;5;124m\"\u001b[39m\u001b[38;5;124mpartial_fit\u001b[39m\u001b[38;5;124m\"\u001b[39m \u001b[38;5;129;01mand\u001b[39;00m _is_fitted(estimator)\n\u001b[0;32m   1141\u001b[0m )\n\u001b[0;32m   1143\u001b[0m \u001b[38;5;28;01mif\u001b[39;00m \u001b[38;5;129;01mnot\u001b[39;00m global_skip_validation \u001b[38;5;129;01mand\u001b[39;00m \u001b[38;5;129;01mnot\u001b[39;00m partial_fit_and_fitted:\n\u001b[1;32m-> 1144\u001b[0m     estimator\u001b[38;5;241m.\u001b[39m_validate_params()\n\u001b[0;32m   1146\u001b[0m \u001b[38;5;28;01mwith\u001b[39;00m config_context(\n\u001b[0;32m   1147\u001b[0m     skip_parameter_validation\u001b[38;5;241m=\u001b[39m(\n\u001b[0;32m   1148\u001b[0m         prefer_skip_nested_validation \u001b[38;5;129;01mor\u001b[39;00m global_skip_validation\n\u001b[0;32m   1149\u001b[0m     )\n\u001b[0;32m   1150\u001b[0m ):\n\u001b[0;32m   1151\u001b[0m     \u001b[38;5;28;01mreturn\u001b[39;00m fit_method(estimator, \u001b[38;5;241m*\u001b[39margs, \u001b[38;5;241m*\u001b[39m\u001b[38;5;241m*\u001b[39mkwargs)\n",
      "File \u001b[1;32mC:\\ProgramData\\anaconda3.1\\Lib\\site-packages\\sklearn\\base.py:637\u001b[0m, in \u001b[0;36mBaseEstimator._validate_params\u001b[1;34m(self)\u001b[0m\n\u001b[0;32m    629\u001b[0m \u001b[38;5;28;01mdef\u001b[39;00m \u001b[38;5;21m_validate_params\u001b[39m(\u001b[38;5;28mself\u001b[39m):\n\u001b[0;32m    630\u001b[0m \u001b[38;5;250m    \u001b[39m\u001b[38;5;124;03m\"\"\"Validate types and values of constructor parameters\u001b[39;00m\n\u001b[0;32m    631\u001b[0m \n\u001b[0;32m    632\u001b[0m \u001b[38;5;124;03m    The expected type and values must be defined in the `_parameter_constraints`\u001b[39;00m\n\u001b[1;32m   (...)\u001b[0m\n\u001b[0;32m    635\u001b[0m \u001b[38;5;124;03m    accepted constraints.\u001b[39;00m\n\u001b[0;32m    636\u001b[0m \u001b[38;5;124;03m    \"\"\"\u001b[39;00m\n\u001b[1;32m--> 637\u001b[0m     validate_parameter_constraints(\n\u001b[0;32m    638\u001b[0m         \u001b[38;5;28mself\u001b[39m\u001b[38;5;241m.\u001b[39m_parameter_constraints,\n\u001b[0;32m    639\u001b[0m         \u001b[38;5;28mself\u001b[39m\u001b[38;5;241m.\u001b[39mget_params(deep\u001b[38;5;241m=\u001b[39m\u001b[38;5;28;01mFalse\u001b[39;00m),\n\u001b[0;32m    640\u001b[0m         caller_name\u001b[38;5;241m=\u001b[39m\u001b[38;5;28mself\u001b[39m\u001b[38;5;241m.\u001b[39m\u001b[38;5;18m__class__\u001b[39m\u001b[38;5;241m.\u001b[39m\u001b[38;5;18m__name__\u001b[39m,\n\u001b[0;32m    641\u001b[0m     )\n",
      "File \u001b[1;32mC:\\ProgramData\\anaconda3.1\\Lib\\site-packages\\sklearn\\utils\\_param_validation.py:95\u001b[0m, in \u001b[0;36mvalidate_parameter_constraints\u001b[1;34m(parameter_constraints, params, caller_name)\u001b[0m\n\u001b[0;32m     89\u001b[0m \u001b[38;5;28;01melse\u001b[39;00m:\n\u001b[0;32m     90\u001b[0m     constraints_str \u001b[38;5;241m=\u001b[39m (\n\u001b[0;32m     91\u001b[0m         \u001b[38;5;124mf\u001b[39m\u001b[38;5;124m\"\u001b[39m\u001b[38;5;132;01m{\u001b[39;00m\u001b[38;5;124m'\u001b[39m\u001b[38;5;124m, \u001b[39m\u001b[38;5;124m'\u001b[39m\u001b[38;5;241m.\u001b[39mjoin([\u001b[38;5;28mstr\u001b[39m(c)\u001b[38;5;250m \u001b[39m\u001b[38;5;28;01mfor\u001b[39;00m\u001b[38;5;250m \u001b[39mc\u001b[38;5;250m \u001b[39m\u001b[38;5;129;01min\u001b[39;00m\u001b[38;5;250m \u001b[39mconstraints[:\u001b[38;5;241m-\u001b[39m\u001b[38;5;241m1\u001b[39m]])\u001b[38;5;132;01m}\u001b[39;00m\u001b[38;5;124m or\u001b[39m\u001b[38;5;124m\"\u001b[39m\n\u001b[0;32m     92\u001b[0m         \u001b[38;5;124mf\u001b[39m\u001b[38;5;124m\"\u001b[39m\u001b[38;5;124m \u001b[39m\u001b[38;5;132;01m{\u001b[39;00mconstraints[\u001b[38;5;241m-\u001b[39m\u001b[38;5;241m1\u001b[39m]\u001b[38;5;132;01m}\u001b[39;00m\u001b[38;5;124m\"\u001b[39m\n\u001b[0;32m     93\u001b[0m     )\n\u001b[1;32m---> 95\u001b[0m \u001b[38;5;28;01mraise\u001b[39;00m InvalidParameterError(\n\u001b[0;32m     96\u001b[0m     \u001b[38;5;124mf\u001b[39m\u001b[38;5;124m\"\u001b[39m\u001b[38;5;124mThe \u001b[39m\u001b[38;5;132;01m{\u001b[39;00mparam_name\u001b[38;5;132;01m!r}\u001b[39;00m\u001b[38;5;124m parameter of \u001b[39m\u001b[38;5;132;01m{\u001b[39;00mcaller_name\u001b[38;5;132;01m}\u001b[39;00m\u001b[38;5;124m must be\u001b[39m\u001b[38;5;124m\"\u001b[39m\n\u001b[0;32m     97\u001b[0m     \u001b[38;5;124mf\u001b[39m\u001b[38;5;124m\"\u001b[39m\u001b[38;5;124m \u001b[39m\u001b[38;5;132;01m{\u001b[39;00mconstraints_str\u001b[38;5;132;01m}\u001b[39;00m\u001b[38;5;124m. Got \u001b[39m\u001b[38;5;132;01m{\u001b[39;00mparam_val\u001b[38;5;132;01m!r}\u001b[39;00m\u001b[38;5;124m instead.\u001b[39m\u001b[38;5;124m\"\u001b[39m\n\u001b[0;32m     98\u001b[0m )\n",
      "\u001b[1;31mInvalidParameterError\u001b[0m: The 'min_samples_leaf' parameter of RandomForestClassifier must be an int in the range [1, inf) or a float in the range (0.0, 1.0). Got 1.0 instead."
     ]
    }
   ],
   "source": [
    "if __name__ == \"__main__\":\n",
    "    main(X, y)"
   ]
  },
  {
   "cell_type": "code",
   "execution_count": null,
   "id": "364a1e5e-5667-427e-a57c-127837f4936c",
   "metadata": {},
   "outputs": [],
   "source": []
  }
 ],
 "metadata": {
  "kernelspec": {
   "display_name": "Python 3 (ipykernel)",
   "language": "python",
   "name": "python3"
  },
  "language_info": {
   "codemirror_mode": {
    "name": "ipython",
    "version": 3
   },
   "file_extension": ".py",
   "mimetype": "text/x-python",
   "name": "python",
   "nbconvert_exporter": "python",
   "pygments_lexer": "ipython3",
   "version": "3.13.0"
  }
 },
 "nbformat": 4,
 "nbformat_minor": 5
}
